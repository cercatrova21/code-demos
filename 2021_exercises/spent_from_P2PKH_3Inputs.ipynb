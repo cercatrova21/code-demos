{
 "cells": [
  {
   "cell_type": "code",
   "execution_count": 1,
   "id": "d093a4a7",
   "metadata": {},
   "outputs": [
    {
     "name": "stdout",
     "output_type": "stream",
     "text": [
      "2105119\n"
     ]
    }
   ],
   "source": [
    "export BX_CONFIG=\"../bx_config_files/bx_testnet.cfg\"\n",
    "bx fetch-height"
   ]
  },
  {
   "cell_type": "code",
   "execution_count": 2,
   "id": "089e73e4",
   "metadata": {},
   "outputs": [
    {
     "name": "stdout",
     "output_type": "stream",
     "text": [
      "apology fix coast coil reunion couch idle off fiscal horror coffee deposit defy swift bless alley print sign\n",
      "tprv8ZgxMBicQKsPdHcXbFm8KUfEuox1eHFSePzQkzAvx865deP7vEdMjS8TJdD8RFsW8Vgj5CWVMnZbTVEw3J2GSXbHeRQavRyjD91geTrogPD\n",
      "tpubD6NzVbkrYhZ4WkeKUuRiitKMUqTwocSMDhbC3WDENPtUU8dtYdSwuvkKUnDEzAsNnYyxK2CADNNbyG9jGnpcWk6iKbKvKzL9auz5jAF29Rc\n"
     ]
    }
   ],
   "source": [
    "my_mnemonic=\"apology fix coast coil reunion couch idle off fiscal horror coffee deposit defy swift bless alley print sign\"\n",
    "hd_master_private=$(bx mnemonic-to-seed $my_mnemonic | bx hd-new)\n",
    "hd_master_public=$(bx hd-to-public $hd_master_private)\n",
    "echo $my_mnemonic\n",
    "echo $hd_master_private\n",
    "echo $hd_master_public"
   ]
  },
  {
   "cell_type": "code",
   "execution_count": 37,
   "id": "8110c4e7",
   "metadata": {},
   "outputs": [
    {
     "name": "stdout",
     "output_type": "stream",
     "text": [
      "Error: unrecognised option '--index'\n",
      "Error: the argument is invalid\n",
      "terminate called after throwing an instance of 'boost::exception_detail::clone_impl<boost::exception_detail::error_info_injector<boost::bad_lexical_cast> >'\n",
      "  what():  bad lexical cast: source type value could not be interpreted as target\n",
      "terminate called after throwing an instance of 'boost::exception_detail::clone_impl<boost::exception_detail::error_info_injector<boost::bad_lexical_cast> >'\n",
      "  what():  bad lexical cast: source type value could not be interpreted as target\n",
      "mj3gp3BZs8Cyst3rLDoh3hf7edttTBJDhZ\n",
      "1c5cc83e53526592504bce5af82406d0a9340e3ac5182712616da33a7c4d6ff8\n",
      "028ad459258584b2b34cb2a2498528180de6ae548d77ba79b8c7e696a727bfe061\n"
     ]
    }
   ],
   "source": [
    "hd_m_44h_1h_1h_0=$(bx hd-private --hard --index 44 $hd_master_private \\\n",
    "| bx hd-private --hard --index 1  \\\n",
    "| bx hd-private --hard --index 1  \\\n",
    "| bx hd-private --index 0)\n",
    "\n",
    "hd_m_44h_1h_1h_0_0=$(bx hd-private --index 0 $hd_m_44h_1h_1h_0)\n",
    "publickeyhash_44h_1h_1h_0_0=$(bx hd-to-public $hd_m_44h_1h_1h_0_0 | bx hd-to-ec | bx sha256 | bx ripemd160)\n",
    "address_m_44h_1h_1h_0_0=$(bx hd-to-public $hd_m_44h_1h_1h_0_0 | bx hd-to-ec | bx ec-to-address)\n",
    "privkey_m_44h_1h_1h_0_0=$(bx hd-private --index 0 $hd_m_44h_1h_1h_0_0 | bx hd-to-ec)\n",
    "pubkey_m_44h_1h_1h_0_0=$(bx hd-private --index 0 $hd_m_44h_1h_1h_0_0 | bx hd-to-ec | bx ec-to-public)\n",
    "\n",
    "\n",
    "hd_m_44h_1h_1h_0_1=$(bx hd-private --index 1 $hd_m_44h_1h_1h_0)\n",
    "publickeyhash_44h_1h_1h_0_1=$(bx hd-to-public $hd_m_44h_1h_1h_0_1 | bx hd-to-ec | bx sha256 | bx ripemd160)\n",
    "address_m_44h_1h_1h_0_1=$(bx hd-to-public $hd_m_44h_1h_1h_0_1 | bx hd-to-ec | bx ec-to-address)\n",
    "privkey_m_44h_1h_1h_0_1=$(bx hd-private --index 1 $hd_m_44h_1h_1h_0_1 | bx hd-to-ec)\n",
    "pubkey_m_44h_1h_1h_0_1=$(bx hd-private --index 1 $hd_m_44h_1h_1h_0_1 | bx hd-to-ec | bx ec-to-public)\n",
    "\n",
    "hd_m_44h_1h_1h_0_2=$(bx hd-private --index 2 $hd_m_44h_1h_1h_0)\n",
    "publickeyhash_44h_1h_1h_0_2=$(bx hd-to-public $hd_m_44h_1h_1h_0_2 | bx hd-to-ec | bx sha256 | bx ripemd160)\n",
    "address_m_44h_1h_1h_0_2=$(bx hd-to-public $hd_m_44h_1h_1h_0_2 | bx hd-to-ec | bx ec-to-address)\n",
    "privkey_m_44h_1h_1h_0_2=$(bx hd-private --index 2 $hd_m_44h_1h_1h_0_2 | bx hd-to-ec)\n",
    "pubkey_m_44h_1h_1h_0_2=$(bx hd-private --index 2 $hd_m_44h_1h_1h_0_2 | bx hd-to-ec | bx ec-to-public)\n",
    "\n",
    "echo $address_m_44h_1h_1h_0_0\n",
    "echo $privkey_m_44h_1h_1h_0_0\n",
    "echo $pubkey_m_44h_1h_1h_0_0\n"
   ]
  },
  {
   "cell_type": "code",
   "execution_count": 39,
   "id": "73b8bcc6",
   "metadata": {},
   "outputs": [
    {
     "name": "stdout",
     "output_type": "stream",
     "text": [
      "\n",
      "Usage: bx COMMAND [--help]\n",
      "\n",
      "Version: 3.2.0\n",
      "\n",
      "Info: The bx commands are:\n",
      "\n",
      "address-decode\n",
      "address-embed\n",
      "address-encode\n",
      "base16-decode\n",
      "base16-encode\n",
      "base58-decode\n",
      "base58-encode\n",
      "base58check-decode\n",
      "base58check-encode\n",
      "base64-decode\n",
      "base64-encode\n",
      "bitcoin160\n",
      "bitcoin256\n",
      "btc-to-satoshi\n",
      "cert-new\n",
      "cert-public\n",
      "ec-add\n",
      "ec-add-secrets\n",
      "ec-multiply\n",
      "ec-multiply-secrets\n",
      "ec-new\n",
      "ec-to-address\n",
      "ec-to-ek\n",
      "ec-to-public\n",
      "ec-to-wif\n",
      "ek-address\n",
      "ek-new\n",
      "ek-public\n",
      "ek-public-to-address\n",
      "ek-public-to-ec\n",
      "ek-to-address\n",
      "ek-to-ec\n",
      "fetch-balance\n",
      "fetch-header\n",
      "fetch-height\n",
      "fetch-history\n",
      "fetch-public-key\n",
      "fetch-stealth\n",
      "fetch-tx\n",
      "fetch-tx-index\n",
      "fetch-utxo\n",
      "hd-new\n",
      "hd-private\n",
      "hd-public\n",
      "hd-to-ec\n",
      "hd-to-public\n",
      "help\n",
      "input-set\n",
      "input-sign\n",
      "input-validate\n",
      "message-sign\n",
      "message-validate\n",
      "mnemonic-new\n",
      "mnemonic-to-seed\n",
      "qrcode\n",
      "ripemd160\n",
      "satoshi-to-btc\n",
      "script-decode\n",
      "script-encode\n",
      "script-to-address\n",
      "seed\n",
      "send-tx\n",
      "send-tx-node\n",
      "send-tx-p2p\n",
      "settings\n",
      "sha160\n",
      "sha256\n",
      "sha512\n",
      "stealth-decode\n",
      "stealth-encode\n",
      "stealth-public\n",
      "stealth-secret\n",
      "stealth-shared\n",
      "token-new\n",
      "tx-decode\n",
      "tx-encode\n",
      "tx-sign\n",
      "uri-decode\n",
      "uri-encode\n",
      "validate-tx\n",
      "watch-address\n",
      "watch-stealth\n",
      "watch-tx\n",
      "wif-to-ec\n",
      "wif-to-public\n",
      "wrap-decode\n",
      "wrap-encode\n",
      "\n",
      "Bitcoin Explorer home page:\n",
      "\n",
      "https://github.com/libbitcoin/libbitcoin-explorer\n"
     ]
    }
   ],
   "source": [
    "bx help"
   ]
  },
  {
   "cell_type": "code",
   "execution_count": 7,
   "id": "468abad3",
   "metadata": {},
   "outputs": [
    {
     "name": "stdout",
     "output_type": "stream",
     "text": [
      "{\n",
      "    \"transfers\": [\n",
      "        {\n",
      "            \"received\": {\n",
      "                \"hash\": \"a954cf9e01a3d698086f5ff8c46b01a54c755d803b8496069f993ff7f2e3c900\",\n",
      "                \"height\": \"2105030\",\n",
      "                \"index\": \"0\"\n",
      "            },\n",
      "            \"value\": \"2833\"\n",
      "        }\n",
      "    ]\n",
      "}\n",
      "{\n",
      "    \"transfers\": [\n",
      "        {\n",
      "            \"received\": {\n",
      "                \"hash\": \"a954cf9e01a3d698086f5ff8c46b01a54c755d803b8496069f993ff7f2e3c900\",\n",
      "                \"height\": \"2105030\",\n",
      "                \"index\": \"1\"\n",
      "            },\n",
      "            \"value\": \"2833\"\n",
      "        }\n",
      "    ]\n",
      "}\n",
      "{\n",
      "    \"transfers\": [\n",
      "        {\n",
      "            \"received\": {\n",
      "                \"hash\": \"a954cf9e01a3d698086f5ff8c46b01a54c755d803b8496069f993ff7f2e3c900\",\n",
      "                \"height\": \"2105030\",\n",
      "                \"index\": \"2\"\n",
      "            },\n",
      "            \"value\": \"2833\"\n",
      "        }\n",
      "    ]\n",
      "}\n"
     ]
    }
   ],
   "source": [
    "echo $address_m_44h_1h_1h_0_0 | bx fetch-history --format json\n",
    "echo $address_m_44h_1h_1h_0_1 | bx fetch-history --format json\n",
    "echo $address_m_44h_1h_1h_0_2 | bx fetch-history --format json"
   ]
  },
  {
   "cell_type": "code",
   "execution_count": 8,
   "id": "6eaf0a2e",
   "metadata": {},
   "outputs": [
    {
     "name": "stdout",
     "output_type": "stream",
     "text": [
      "a954cf9e01a3d698086f5ff8c46b01a54c755d803b8496069f993ff7f2e3c900\n"
     ]
    }
   ],
   "source": [
    "previous_txid=$(echo $address_m_44h_1h_1h_0_0 | bx fetch-history --format json | jq -r \".transfers[0].received.hash\")\n",
    "echo $previous_txid"
   ]
  },
  {
   "cell_type": "markdown",
   "id": "9ba5b46d",
   "metadata": {},
   "source": [
    "Receiving"
   ]
  },
  {
   "cell_type": "code",
   "execution_count": 10,
   "id": "b7431730",
   "metadata": {},
   "outputs": [
    {
     "name": "stdout",
     "output_type": "stream",
     "text": [
      "45a4f5036b1db73b9ab8dd330d6789bfba0d3670\n"
     ]
    }
   ],
   "source": [
    "hd_m_44h_1h_1h_0_3=$(bx hd-private --index 3 $hd_m_44h_1h_1h_0)\n",
    "publickeyhash_44h_1h_1h_0_3=$(bx hd-to-public $hd_m_44h_1h_1h_0_3 | bx hd-to-ec | bx sha256 | bx ripemd160)\n",
    "echo $publickeyhash_44h_1h_1h_0_3"
   ]
  },
  {
   "cell_type": "code",
   "execution_count": 13,
   "id": "b5b7d67d",
   "metadata": {},
   "outputs": [
    {
     "name": "stdout",
     "output_type": "stream",
     "text": [
      "76a91445a4f5036b1db73b9ab8dd330d6789bfba0d367088ac\n"
     ]
    }
   ],
   "source": [
    "# Useful bx functions: script-encode\n",
    "output_script=$(bx script-encode \"DUP HASH160 [\"$publickeyhash_44h_1h_1h_0_3\"] EQUALVERIFY CHECKSIG\")\n",
    "echo $output_script\n"
   ]
  },
  {
   "cell_type": "code",
   "execution_count": 30,
   "id": "88928378",
   "metadata": {},
   "outputs": [
    {
     "name": "stdout",
     "output_type": "stream",
     "text": [
      "1500\n"
     ]
    }
   ],
   "source": [
    "# Useful bx functions: tx-encode\n",
    "single_output_amount=$(expr 1500)\n",
    "echo $single_output_amount"
   ]
  },
  {
   "cell_type": "code",
   "execution_count": 31,
   "id": "af03c1f3",
   "metadata": {},
   "outputs": [
    {
     "name": "stdout",
     "output_type": "stream",
     "text": [
      "010000000100c9e3f2f73f999f0696843b805d754ca5016bc4f85f6f0898d6a3019ecf54a90000000000ffffffff01dc050000000000001976a91445a4f5036b1db73b9ab8dd330d6789bfba0d367088ac00000000\n"
     ]
    }
   ],
   "source": [
    "my_tx=$(bx tx-encode \\\n",
    "--input $previous_txid:0:4294967295 \\\n",
    "--output $output_script:$single_output_amount)\n",
    "echo $my_tx"
   ]
  },
  {
   "cell_type": "code",
   "execution_count": 32,
   "id": "cfb6cd25",
   "metadata": {},
   "outputs": [
    {
     "name": "stdout",
     "output_type": "stream",
     "text": [
      "dup hash160 [26b858fb6e462af5ee49a33694578b4c01736892] equalverify checksig\n",
      "dup hash160 [f5bb6b7c5525becf565b0204e9546a99e92becec] equalverify checksig\n",
      "dup hash160 [76b3a79e83fc517d460440d870242b5a4b1adeb9] equalverify checksig\n"
     ]
    }
   ],
   "source": [
    "previous_output_script1=$(bx fetch-tx --format json $previous_txid \\\n",
    "| jq -r \".transaction.outputs[0].script\")\n",
    "previous_output_script2=$(bx fetch-tx --format json $previous_txid \\\n",
    "| jq -r \".transaction.outputs[1].script\")\n",
    "previous_output_script3=$(bx fetch-tx --format json $previous_txid \\\n",
    "| jq -r \".transaction.outputs[2].script\")\n",
    "\n",
    "echo $previous_output_script1\n",
    "echo $previous_output_script2\n",
    "echo $previous_output_script3"
   ]
  },
  {
   "cell_type": "code",
   "execution_count": 33,
   "id": "14e5ef9c",
   "metadata": {},
   "outputs": [
    {
     "name": "stdout",
     "output_type": "stream",
     "text": [
      "3045022100e30b064e404babf5b9ca8e244a424e1988c24e3dd20676f41e47c709143996e602200adc3fc6f5352e43d6f840d55e0310f40cb3c148b930a4500ac57d355894991a01\n"
     ]
    }
   ],
   "source": [
    "# Useful bx functions: input-sign\n",
    "signature1=$(bx input-sign --index 0 $privkey_m_44h_1h_1h_0_0 \"$previous_output_script1\" $my_tx)\n",
    "#signature2=$(bx input-sign --index 1 $privkey_m_44h_1h_1h_0_1 \"$previous_output_script2\" $my_tx)\n",
    "#signature3=$(bx input-sign --index 2 $privkey_m_44h_1h_1h_0_2 \"$previous_output_script3\" $my_tx)\n",
    "#echo $my_tx\n",
    "echo $signature1\n",
    "#echo $signature2\n",
    "#echo $signature3"
   ]
  },
  {
   "cell_type": "code",
   "execution_count": 34,
   "id": "36e38b12",
   "metadata": {},
   "outputs": [
    {
     "name": "stdout",
     "output_type": "stream",
     "text": [
      "010000000100c9e3f2f73f999f0696843b805d754ca5016bc4f85f6f0898d6a3019ecf54a9000000006b483045022100e30b064e404babf5b9ca8e244a424e1988c24e3dd20676f41e47c709143996e602200adc3fc6f5352e43d6f840d55e0310f40cb3c148b930a4500ac57d355894991a0121028ad459258584b2b34cb2a2498528180de6ae548d77ba79b8c7e696a727bfe061ffffffff01dc050000000000001976a91445a4f5036b1db73b9ab8dd330d6789bfba0d367088ac00000000\n"
     ]
    }
   ],
   "source": [
    "# Useful bx functions: input-set\n",
    "my_tx=$(bx input-set --index 0 \"[$signature1] [$pubkey_m_44h_1h_1h_0_0]\" $my_tx)\n",
    "#my_tx=$(bx input-set --index 1 \"[$signature2] [$pubkey_m_44h_1h_1h_0_1]\" $my_tx)\n",
    "#my_tx=$(bx input-set --index 2 \"[$signature3] [$pubkey_m_44h_1h_1h_0_2]\" $my_tx)\n",
    "echo $my_tx"
   ]
  },
  {
   "cell_type": "code",
   "execution_count": 35,
   "id": "9b9bf38b",
   "metadata": {},
   "outputs": [
    {
     "name": "stdout",
     "output_type": "stream",
     "text": [
      "invalid script\n"
     ]
    },
    {
     "ename": "",
     "evalue": "255",
     "output_type": "error",
     "traceback": []
    }
   ],
   "source": [
    "bx validate-tx $my_tx"
   ]
  },
  {
   "cell_type": "code",
   "execution_count": null,
   "id": "7fe1ba24",
   "metadata": {},
   "outputs": [],
   "source": []
  }
 ],
 "metadata": {
  "kernelspec": {
   "display_name": "Bash",
   "language": "bash",
   "name": "bash"
  },
  "language_info": {
   "codemirror_mode": "shell",
   "file_extension": ".sh",
   "mimetype": "text/x-sh",
   "name": "bash"
  }
 },
 "nbformat": 4,
 "nbformat_minor": 5
}
