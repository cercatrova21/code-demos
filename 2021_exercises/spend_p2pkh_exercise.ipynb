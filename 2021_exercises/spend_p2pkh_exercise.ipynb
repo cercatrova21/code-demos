{
 "cells": [
  {
   "cell_type": "markdown",
   "metadata": {},
   "source": [
    "## Preliminaries"
   ]
  },
  {
   "cell_type": "markdown",
   "metadata": {},
   "source": [
    "### The most important Jupyter notebook tricks\n",
    " - Press Esc to escape edit mode and add / remove cells etc.\n",
    " - When not in Edit mode: A inserts a cell above, B below\n",
    " - When not in Edit mode: DD deletes a cell\n",
    " - When in Edit mode: Shift + Enter executes the cell\n",
    " - Interrupt a hung kernel with the Stop button\n",
    " - Or restart under Kernel -> Restart"
   ]
  },
  {
   "cell_type": "markdown",
   "metadata": {},
   "source": [
    "### The most important bash tricks"
   ]
  },
  {
   "cell_type": "code",
   "execution_count": 5,
   "metadata": {},
   "outputs": [
    {
     "name": "stdout",
     "output_type": "stream",
     "text": [
      "over hole smart blind speak number route topple embrace math develop advance radio oyster voyage word panic puzzle\n",
      "f949a33e0df3c43e1c7ba3785f73ab6b5961a062bb2d2f3a\n"
     ]
    }
   ],
   "source": [
    "# pipe output to the next command with |\n",
    "# provides the seed as input to the \"mnemonic-new command\"\n",
    "bx seed | bx mnemonic-new\n",
    "\n",
    "# capture output in variables with var=$(...). Notice the missing spaces around =\n",
    "var=$(bx seed)\n",
    "\n",
    "# later refer to the variable with $. echo prints stuff\n",
    "echo $var"
   ]
  },
  {
   "cell_type": "markdown",
   "metadata": {},
   "source": [
    "### Explore the bx tool"
   ]
  },
  {
   "cell_type": "code",
   "execution_count": 158,
   "metadata": {},
   "outputs": [
    {
     "name": "stdout",
     "output_type": "stream",
     "text": [
      "\n",
      "Usage: bx COMMAND [--help]\n",
      "\n",
      "Version: 3.2.0\n",
      "\n",
      "Info: The bx commands are:\n",
      "\n",
      "address-decode\n",
      "address-embed\n",
      "address-encode\n",
      "base16-decode\n",
      "base16-encode\n",
      "base58-decode\n",
      "base58-encode\n",
      "base58check-decode\n",
      "base58check-encode\n",
      "base64-decode\n",
      "base64-encode\n",
      "bitcoin160\n",
      "bitcoin256\n",
      "btc-to-satoshi\n",
      "cert-new\n",
      "cert-public\n",
      "ec-add\n",
      "ec-add-secrets\n",
      "ec-multiply\n",
      "ec-multiply-secrets\n",
      "ec-new\n",
      "ec-to-address\n",
      "ec-to-ek\n",
      "ec-to-public\n",
      "ec-to-wif\n",
      "ek-address\n",
      "ek-new\n",
      "ek-public\n",
      "ek-public-to-address\n",
      "ek-public-to-ec\n",
      "ek-to-address\n",
      "ek-to-ec\n",
      "fetch-balance\n",
      "fetch-header\n",
      "fetch-height\n",
      "fetch-history\n",
      "fetch-public-key\n",
      "fetch-stealth\n",
      "fetch-tx\n",
      "fetch-tx-index\n",
      "fetch-utxo\n",
      "hd-new\n",
      "hd-private\n",
      "hd-public\n",
      "hd-to-ec\n",
      "hd-to-public\n",
      "help\n",
      "input-set\n",
      "input-sign\n",
      "input-validate\n",
      "message-sign\n",
      "message-validate\n",
      "mnemonic-new\n",
      "mnemonic-to-seed\n",
      "qrcode\n",
      "ripemd160\n",
      "satoshi-to-btc\n",
      "script-decode\n",
      "script-encode\n",
      "script-to-address\n",
      "seed\n",
      "send-tx\n",
      "send-tx-node\n",
      "send-tx-p2p\n",
      "settings\n",
      "sha160\n",
      "sha256\n",
      "sha512\n",
      "stealth-decode\n",
      "stealth-encode\n",
      "stealth-public\n",
      "stealth-secret\n",
      "stealth-shared\n",
      "token-new\n",
      "tx-decode\n",
      "tx-encode\n",
      "tx-sign\n",
      "uri-decode\n",
      "uri-encode\n",
      "validate-tx\n",
      "watch-address\n",
      "watch-stealth\n",
      "watch-tx\n",
      "wif-to-ec\n",
      "wif-to-public\n",
      "wrap-decode\n",
      "wrap-encode\n",
      "\n",
      "Bitcoin Explorer home page:\n",
      "\n",
      "https://github.com/libbitcoin/libbitcoin-explorer\n"
     ]
    }
   ],
   "source": [
    "bx help"
   ]
  },
  {
   "cell_type": "code",
   "execution_count": 13,
   "metadata": {},
   "outputs": [
    {
     "name": "stdout",
     "output_type": "stream",
     "text": [
      "\n",
      "Usage: bx base16-decode [-h] [--config value] [BASE16]                   \n",
      "\n",
      "Info: Convert a Base16 value to binary data.                             \n",
      "\n",
      "Options (named):\n",
      "\n",
      "-c [--config]        The path to the configuration settings file.        \n",
      "-h [--help]          Get a description and instructions for this command.\n",
      "\n",
      "Arguments (positional):\n",
      "\n",
      "BASE16               The Base16 value to decode as binary data. If not   \n",
      "                     specified the value is read from STDIN.             \n"
     ]
    }
   ],
   "source": [
    "bx help base16-decode "
   ]
  },
  {
   "cell_type": "markdown",
   "metadata": {},
   "source": [
    "### Ensure testnet is configured"
   ]
  },
  {
   "cell_type": "code",
   "execution_count": 2,
   "metadata": {},
   "outputs": [
    {
     "name": "stdout",
     "output_type": "stream",
     "text": [
      "2105099\n"
     ]
    }
   ],
   "source": [
    "export BX_CONFIG=\"../bx_config_files/bx_testnet.cfg\"\n",
    "bx fetch-height"
   ]
  },
  {
   "cell_type": "markdown",
   "metadata": {},
   "source": [
    "# Transaction Build - BX Example\n",
    "In this BX tutorial, we construct a transaction which spends one P2PKH output to three (not six) other outputs.\n",
    "\n",
    "<img src=\"images/first_transaction.jpg\" alt=\"drawing\" style=\"\" width=\"700px\"/>\n",
    "\n"
   ]
  },
  {
   "cell_type": "markdown",
   "metadata": {},
   "source": [
    "##  1. Locate your UTXO\n",
    "A testnet address has been funded for you. Use the `sha256` value of your email address as a private key and derive the corresponding public key, as well as testnet P2PKH address. Find the UTXO that is locked to that P2PKH output script."
   ]
  },
  {
   "cell_type": "code",
   "execution_count": 2,
   "metadata": {},
   "outputs": [
    {
     "name": "stdout",
     "output_type": "stream",
     "text": [
      "d310a5ef76dd2e0cbbda5213a2093cff728a725b5c5b2bee445c7fc8d35b4473\n",
      "0246dfa9a04864d88790b0ed70b987c23fa92a2bfe442197b8f5cb54564fcee6bf\n",
      "mrqnmMH1msoB3B7QMi3X8D85tipDWS7aUy\n",
      "7c395509796f7014290139c9d561ef84bb3b4d3b\n"
     ]
    }
   ],
   "source": [
    "# Find your address\n",
    "# Useful bx functions: ec-to-public, ripemd160, ec-to-address\n",
    "email=\"cercatrova21@protonmail.com\"\n",
    "privkey=$(echo -n $email | sha256sum | awk '{print $1}')\n",
    "pubkey=$(echo $privkey | bx ec-to-public)\n",
    "pubkeyhash=$(echo $pubkey | bx sha256 | bx ripemd160)\n",
    "address=$(echo $pubkey | bx ec-to-address)\n",
    "echo $privkey\n",
    "echo $pubkey\n",
    "echo $address\n",
    "echo $pubkeyhash"
   ]
  },
  {
   "cell_type": "code",
   "execution_count": 3,
   "metadata": {},
   "outputs": [
    {
     "name": "stdout",
     "output_type": "stream",
     "text": [
      "apology fix coast coil reunion couch idle off fiscal horror coffee deposit defy swift bless alley print sign\n",
      "tprv8ZgxMBicQKsPdHcXbFm8KUfEuox1eHFSePzQkzAvx865deP7vEdMjS8TJdD8RFsW8Vgj5CWVMnZbTVEw3J2GSXbHeRQavRyjD91geTrogPD\n",
      "tpubD6NzVbkrYhZ4WkeKUuRiitKMUqTwocSMDhbC3WDENPtUU8dtYdSwuvkKUnDEzAsNnYyxK2CADNNbyG9jGnpcWk6iKbKvKzL9auz5jAF29Rc\n"
     ]
    }
   ],
   "source": [
    "my_mnemonic=\"apology fix coast coil reunion couch idle off fiscal horror coffee deposit defy swift bless alley print sign\"\n",
    "hd_master_private=$(bx mnemonic-to-seed $my_mnemonic | bx hd-new)\n",
    "hd_master_public=$(bx hd-to-public $hd_master_private)\n",
    "echo $my_mnemonic\n",
    "echo $hd_master_private\n",
    "echo $hd_master_public"
   ]
  },
  {
   "cell_type": "code",
   "execution_count": 67,
   "metadata": {},
   "outputs": [
    {
     "name": "stdout",
     "output_type": "stream",
     "text": [
      "mj3gp3BZs8Cyst3rLDoh3hf7edttTBJDhZ\n",
      "n3vGNDJxYsu8kgVjStYrcf7NoCygNTFXnj\n",
      "mrLbFKcbuZ37t3js3e89fNgLRizB3xKRoX\n",
      "1c5cc83e53526592504bce5af82406d0a9340e3ac5182712616da33a7c4d6ff8\n",
      "028ad459258584b2b34cb2a2498528180de6ae548d77ba79b8c7e696a727bfe061\n"
     ]
    }
   ],
   "source": [
    "hd_m_44h_1h_1h_0=$(bx hd-private --hard --index 44 $hd_master_private \\\n",
    "| bx hd-private --hard --index 1  \\\n",
    "| bx hd-private --hard --index 1  \\\n",
    "| bx hd-private --index 0)\n",
    "\n",
    "hd_m_44h_1h_1h_0_0=$(bx hd-private --index 0 $hd_m_44h_1h_1h_0)\n",
    "publickeyhash_44h_1h_1h_0_0=$(bx hd-to-public $hd_m_44h_1h_1h_0_0 | bx hd-to-ec | bx sha256 | bx ripemd160)\n",
    "address_m_44h_1h_1h_0_0=$(bx hd-to-public $hd_m_44h_1h_1h_0_0 | bx hd-to-ec | bx ec-to-address)\n",
    "privkey_m_44h_1h_1h_0_0=$(bx hd-private --index 0 $hd_m_44h_1h_1h_0_0 | bx hd-to-ec)\n",
    "pubkey_m_44h_1h_1h_0_0=$(bx hd-private --index 0 $hd_m_44h_1h_1h_0_0 | bx hd-to-ec | bx ec-to-public)\n",
    "\n",
    "\n",
    "hd_m_44h_1h_1h_0_1=$(bx hd-private --index 1 $hd_m_44h_1h_1h_0)\n",
    "publickeyhash_44h_1h_1h_0_1=$(bx hd-to-public $hd_m_44h_1h_1h_0_1 | bx hd-to-ec | bx sha256 | bx ripemd160)\n",
    "address_m_44h_1h_1h_0_1=$(bx hd-to-public $hd_m_44h_1h_1h_0_1 | bx hd-to-ec | bx ec-to-address)\n",
    "privkey_m_44h_1h_1h_0_1=$(bx hd-private --index 0 $hd_m_44h_1h_1h_0_1 | bx hd-to-ec)\n",
    "pubkey_m_44h_1h_1h_0_1=$(bx hd-private --index 0 $hd_m_44h_1h_1h_0_1 | bx hd-to-ec | bx ec-to-public)\n",
    "\n",
    "hd_m_44h_1h_1h_0_2=$(bx hd-private --index 2 $hd_m_44h_1h_1h_0)\n",
    "publickeyhash_44h_1h_1h_0_2=$(bx hd-to-public $hd_m_44h_1h_1h_0_2 | bx hd-to-ec | bx sha256 | bx ripemd160)\n",
    "address_m_44h_1h_1h_0_2=$(bx hd-to-public $hd_m_44h_1h_1h_0_2 | bx hd-to-ec | bx ec-to-address)\n",
    "privkey_m_44h_1h_1h_0_2=$(bx hd-private --index 0 $hd_m_44h_1h_1h_0_2 | bx hd-to-ec)\n",
    "pubkey_m_44h_1h_1h_0_2=$(bx hd-private --index 0 $hd_m_44h_1h_1h_0_2 | bx hd-to-ec | bx ec-to-public)\n",
    "\n",
    "echo $address_m_44h_1h_1h_0_0\n",
    "echo $address_m_44h_1h_1h_0_1\n",
    "echo $address_m_44h_1h_1h_0_2\n",
    "\n",
    "echo $privkey_m_44h_1h_1h_0_0\n",
    "echo $pubkey_m_44h_1h_1h_0_0"
   ]
  },
  {
   "cell_type": "code",
   "execution_count": 11,
   "metadata": {
    "scrolled": true
   },
   "outputs": [
    {
     "name": "stdout",
     "output_type": "stream",
     "text": [
      "{\n",
      "    \"transfers\": [\n",
      "        {\n",
      "            \"received\": {\n",
      "                \"hash\": \"a954cf9e01a3d698086f5ff8c46b01a54c755d803b8496069f993ff7f2e3c900\",\n",
      "                \"height\": \"2105030\",\n",
      "                \"index\": \"0\"\n",
      "            },\n",
      "            \"value\": \"2833\"\n",
      "        }\n",
      "    ]\n",
      "}\n"
     ]
    }
   ],
   "source": [
    "echo $address_m_44h_1h_1h_0_0 | bx fetch-history --format json"
   ]
  },
  {
   "cell_type": "code",
   "execution_count": 12,
   "metadata": {},
   "outputs": [
    {
     "name": "stdout",
     "output_type": "stream",
     "text": [
      "a954cf9e01a3d698086f5ff8c46b01a54c755d803b8496069f993ff7f2e3c900\n",
      "0\n",
      "2833\n"
     ]
    }
   ],
   "source": [
    "# Save variables for later when we construct the transaction\n",
    "previous_txid=$(echo $address_m_44h_1h_1h_0_0 | bx fetch-history --format json | jq -r \".transfers[0].received.hash\")\n",
    "echo $previous_txid\n",
    "previous_output_index=$(echo $address_m_44h_1h_1h_0_0 | bx fetch-history --format json | jq -r \".transfers[0].received.index\")\n",
    "echo $previous_output_index\n",
    "previous_amount=$(echo $address_m_44h_1h_1h_0_0 | bx fetch-history --format json | jq -r \".transfers[0].value\")\n",
    "echo $previous_amount"
   ]
  },
  {
   "cell_type": "markdown",
   "metadata": {},
   "source": [
    "<hr style=\"border: 0.5px dashed #000;\">\n",
    "\n",
    "## 1. Setup receiving wallet.\n"
   ]
  },
  {
   "cell_type": "markdown",
   "metadata": {},
   "source": [
    "### Create new mnemonic and derive hd master keys."
   ]
  },
  {
   "cell_type": "code",
   "execution_count": 9,
   "metadata": {},
   "outputs": [
    {
     "name": "stdout",
     "output_type": "stream",
     "text": [
      "apology fix coast coil reunion couch idle off fiscal horror coffee deposit defy swift bless alley print sign\n",
      "tprv8ZgxMBicQKsPdHcXbFm8KUfEuox1eHFSePzQkzAvx865deP7vEdMjS8TJdD8RFsW8Vgj5CWVMnZbTVEw3J2GSXbHeRQavRyjD91geTrogPD\n",
      "tpubD6NzVbkrYhZ4WkeKUuRiitKMUqTwocSMDhbC3WDENPtUU8dtYdSwuvkKUnDEzAsNnYyxK2CADNNbyG9jGnpcWk6iKbKvKzL9auz5jAF29Rc\n"
     ]
    }
   ],
   "source": [
    "my_mnemonic=$(bx seed | bx mnemonic-new)\n",
    "hd_master_private=$(bx mnemonic-to-seed $my_mnemonic | bx hd-new)\n",
    "hd_master_public=$(bx hd-to-public $hd_master_private)\n",
    "echo $my_mnemonic\n",
    "echo $hd_master_private\n",
    "echo $hd_master_public"
   ]
  },
  {
   "cell_type": "markdown",
   "metadata": {},
   "source": [
    "### Account 1: Generate destination key pairs.\n",
    "\n",
    "You will spend the previously received utxo to receiving addresses from `account 1`, namely `/44'/1'/1'/0/0`, `/44'/1'/1'/0/1`, `/44'/1'/1'/0/2`, `/44'/1'/1'/0/3` ...\n"
   ]
  },
  {
   "cell_type": "code",
   "execution_count": 10,
   "metadata": {},
   "outputs": [
    {
     "name": "stdout",
     "output_type": "stream",
     "text": [
      "26b858fb6e462af5ee49a33694578b4c01736892\n",
      "f5bb6b7c5525becf565b0204e9546a99e92becec\n",
      "76b3a79e83fc517d460440d870242b5a4b1adeb9\n"
     ]
    }
   ],
   "source": [
    "# Useful bx functions: hd-private, hd-to-public, sha256, ripemd160\n",
    "# Account 1 receiving parent: m/44'/1'/1'/0\n",
    "hd_m_44h_1h_1h_0=$(bx hd-private --hard --index 44 $hd_master_private \\\n",
    "| bx hd-private --hard --index 1  \\\n",
    "| bx hd-private --hard --index 1  \\\n",
    "| bx hd-private --index 0)\n",
    "\n",
    "hd_m_44h_1h_1h_0_0=$(bx hd-private --index 0 $hd_m_44h_1h_1h_0)\n",
    "publickeyhash_44h_1h_1h_0_0=$(bx hd-to-public $hd_m_44h_1h_1h_0_0 | bx hd-to-ec | bx sha256 | bx ripemd160)\n",
    "\n",
    "hd_m_44h_1h_1h_0_1=$(bx hd-private --index 1 $hd_m_44h_1h_1h_0)\n",
    "publickeyhash_44h_1h_1h_0_1=$(bx hd-to-public $hd_m_44h_1h_1h_0_1 | bx hd-to-ec | bx sha256 | bx ripemd160)\n",
    "\n",
    "hd_m_44h_1h_1h_0_2=$(bx hd-private --index 2 $hd_m_44h_1h_1h_0)\n",
    "publickeyhash_44h_1h_1h_0_2=$(bx hd-to-public $hd_m_44h_1h_1h_0_2 | bx hd-to-ec | bx sha256 | bx ripemd160)\n",
    "\n",
    "echo $publickeyhash_44h_1h_1h_0_0\n",
    "echo $publickeyhash_44h_1h_1h_0_1\n",
    "echo $publickeyhash_44h_1h_1h_0_2"
   ]
  },
  {
   "cell_type": "code",
   "execution_count": 52,
   "metadata": {},
   "outputs": [
    {
     "name": "stdout",
     "output_type": "stream",
     "text": [
      "76b3a79e83fc517d460440d870242b5a4b1adeb9\n"
     ]
    }
   ],
   "source": [
    "hd_m_44h_1h_1h_0_3=$(bx hd-private --index 2 $hd_m_44h_1h_1h_0)\n",
    "publickeyhash_44h_1h_1h_0_3=$(bx hd-to-public $hd_m_44h_1h_1h_0_3 | bx hd-to-ec | bx sha256 | bx ripemd160)\n",
    "echo $publickeyhash_44h_1h_1h_0_3"
   ]
  },
  {
   "cell_type": "markdown",
   "metadata": {},
   "source": [
    "## 2. Spending a P2PKH output."
   ]
  },
  {
   "cell_type": "markdown",
   "metadata": {},
   "source": [
    "### Create output scripts."
   ]
  },
  {
   "cell_type": "markdown",
   "metadata": {},
   "source": [
    "* **Compose P2PKH(destination public key hash) output scripts for each destination.**"
   ]
  },
  {
   "cell_type": "code",
   "execution_count": 77,
   "metadata": {},
   "outputs": [
    {
     "name": "stdout",
     "output_type": "stream",
     "text": [
      "76a91426b858fb6e462af5ee49a33694578b4c0173689288ac\n",
      "76a914f5bb6b7c5525becf565b0204e9546a99e92becec88ac\n",
      "76a9147c395509796f7014290139c9d561ef84bb3b4d3b88ac\n"
     ]
    }
   ],
   "source": [
    "# Useful bx functions: script-encode\n",
    "output_script1=$(bx script-encode \"DUP HASH160 [\"$publickeyhash_44h_1h_1h_0_0\"] EQUALVERIFY CHECKSIG\")\n",
    "output_script2=$(bx script-encode \"DUP HASH160 [\"$publickeyhash_44h_1h_1h_0_1\"] EQUALVERIFY CHECKSIG\")\n",
    "output_script3=$(bx script-encode \"DUP HASH160 [\"7c395509796f7014290139c9d561ef84bb3b4d3b\"] EQUALVERIFY CHECKSIG\")\n",
    "echo $output_script1\n",
    "echo $output_script2\n",
    "echo $output_script3\n"
   ]
  },
  {
   "cell_type": "code",
   "execution_count": 85,
   "metadata": {},
   "outputs": [
    {
     "name": "stdout",
     "output_type": "stream",
     "text": [
      "6000\n"
     ]
    }
   ],
   "source": [
    "# Useful bx functions: tx-encode\n",
    "single_output_amount=$(expr 6000)\n",
    "echo $single_output_amount\n",
    "\n"
   ]
  },
  {
   "cell_type": "markdown",
   "metadata": {},
   "source": [
    "### Construct transaction template for signing.\n",
    "\n",
    "* `sequence: 0xffffffff(hex)/4294967295(dec)`"
   ]
  },
  {
   "cell_type": "code",
   "execution_count": 41,
   "metadata": {
    "scrolled": true
   },
   "outputs": [
    {
     "name": "stdout",
     "output_type": "stream",
     "text": [
      "010000000100c9e3f2f73f999f0696843b805d754ca5016bc4f85f6f0898d6a3019ecf54a90000000000ffffffff038d070000000000001976a91426b858fb6e462af5ee49a33694578b4c0173689288ac8d070000000000001976a914f5bb6b7c5525becf565b0204e9546a99e92becec88ac8d070000000000001976a91476b3a79e83fc517d460440d870242b5a4b1adeb988ac00000000\n"
     ]
    }
   ],
   "source": [
    "my_tx=$(bx tx-encode \\\n",
    "--input $previous_txid:$previous_output_index:4294967295 \\\n",
    "--output $output_script0:$single_output_amount \\\n",
    "--output $output_script1:$single_output_amount \\\n",
    "--output $output_script2:$single_output_amount)\n",
    "echo $my_tx"
   ]
  },
  {
   "cell_type": "code",
   "execution_count": 54,
   "metadata": {},
   "outputs": [
    {
     "name": "stdout",
     "output_type": "stream",
     "text": [
      "010000000100c9e3f2f73f999f0696843b805d754ca5016bc4f85f6f0898d6a3019ecf54a90000000000ffffffff018d070000000000001976a91476b3a79e83fc517d460440d870242b5a4b1adeb988ac00000000\n"
     ]
    }
   ],
   "source": [
    "my_tx=$(bx tx-encode \\\n",
    "--input $previous_txid:$previous_output_index:4294967295 \\\n",
    "--output $output_script3:$single_output_amount)\n",
    "echo $my_tx"
   ]
  },
  {
   "cell_type": "code",
   "execution_count": 86,
   "metadata": {},
   "outputs": [
    {
     "name": "stdout",
     "output_type": "stream",
     "text": [
      "010000000300c9e3f2f73f999f0696843b805d754ca5016bc4f85f6f0898d6a3019ecf54a90000000000ffffffff00c9e3f2f73f999f0696843b805d754ca5016bc4f85f6f0898d6a3019ecf54a90100000000ffffffff00c9e3f2f73f999f0696843b805d754ca5016bc4f85f6f0898d6a3019ecf54a90200000000ffffffff0170170000000000001976a9147c395509796f7014290139c9d561ef84bb3b4d3b88ac00000000\n"
     ]
    }
   ],
   "source": [
    "my_tx=$(bx tx-encode \\\n",
    "--input $previous_txid:0:4294967295 \\\n",
    "--input $previous_txid:1:4294967295 \\\n",
    "--input $previous_txid:2:4294967295 \\\n",
    "--output $output_script3:$single_output_amount)\n",
    "echo $my_tx"
   ]
  },
  {
   "cell_type": "markdown",
   "metadata": {},
   "source": [
    "### Sign transaction."
   ]
  },
  {
   "cell_type": "markdown",
   "metadata": {},
   "source": [
    "**Fetch previous output script (check output index ! )**"
   ]
  },
  {
   "cell_type": "code",
   "execution_count": 55,
   "metadata": {},
   "outputs": [
    {
     "name": "stdout",
     "output_type": "stream",
     "text": [
      "transaction\n",
      "{\n",
      "    hash a954cf9e01a3d698086f5ff8c46b01a54c755d803b8496069f993ff7f2e3c900\n",
      "    inputs\n",
      "    {\n",
      "        input\n",
      "        {\n",
      "            address_hash 7c395509796f7014290139c9d561ef84bb3b4d3b\n",
      "            previous_output\n",
      "            {\n",
      "                hash 0625d7e116e6b2ce8909a3a68bf7b446205c1bc4863e0ec7a83fe57dd4198c45\n",
      "                index 1\n",
      "            }\n",
      "            script \"[3045022100f9c97477b6a967ec567ffc960d7f530347a4f42abf6d0a3e5cf1b7cda14d5bfb022043893690d3c83d7b463dbec039c9e36964aaeeedb565e3234334697056fe9a9d01] [0246dfa9a04864d88790b0ed70b987c23fa92a2bfe442197b8f5cb54564fcee6bf]\"\n",
      "            sequence 4294967295\n",
      "        }\n",
      "    }\n",
      "    lock_time 0\n",
      "    outputs\n",
      "    {\n",
      "        output\n",
      "        {\n",
      "            address_hash 26b858fb6e462af5ee49a33694578b4c01736892\n",
      "            script \"dup hash160 [26b858fb6e462af5ee49a33694578b4c01736892] equalverify checksig\"\n",
      "            value 2833\n",
      "        }\n",
      "        output\n",
      "        {\n",
      "            address_hash f5bb6b7c5525becf565b0204e9546a99e92becec\n",
      "            script \"dup hash160 [f5bb6b7c5525becf565b0204e9546a99e92becec] equalverify checksig\"\n",
      "            value 2833\n",
      "        }\n",
      "        output\n",
      "        {\n",
      "            address_hash 76b3a79e83fc517d460440d870242b5a4b1adeb9\n",
      "            script \"dup hash160 [76b3a79e83fc517d460440d870242b5a4b1adeb9] equalverify checksig\"\n",
      "            value 2833\n",
      "        }\n",
      "    }\n",
      "    version 1\n",
      "}\n"
     ]
    }
   ],
   "source": [
    "# Useful bx functions: fetch-tx\n",
    "bx fetch-tx $previous_txid"
   ]
  },
  {
   "cell_type": "code",
   "execution_count": 87,
   "metadata": {},
   "outputs": [
    {
     "name": "stdout",
     "output_type": "stream",
     "text": [
      "dup hash160 [26b858fb6e462af5ee49a33694578b4c01736892] equalverify checksig\n",
      "dup hash160 [f5bb6b7c5525becf565b0204e9546a99e92becec] equalverify checksig\n",
      "dup hash160 [76b3a79e83fc517d460440d870242b5a4b1adeb9] equalverify checksig\n"
     ]
    }
   ],
   "source": [
    "previous_output_script1=$(bx fetch-tx --format json $previous_txid \\\n",
    "| jq -r \".transaction.outputs[0].script\")\n",
    "previous_output_script2=$(bx fetch-tx --format json $previous_txid \\\n",
    "| jq -r \".transaction.outputs[1].script\")\n",
    "previous_output_script3=$(bx fetch-tx --format json $previous_txid \\\n",
    "| jq -r \".transaction.outputs[2].script\")\n",
    "\n",
    "echo $previous_output_script1\n",
    "echo $previous_output_script2\n",
    "echo $previous_output_script3"
   ]
  },
  {
   "cell_type": "markdown",
   "metadata": {},
   "source": [
    "**Sign transaction with previous output script.**"
   ]
  },
  {
   "cell_type": "code",
   "execution_count": 88,
   "metadata": {},
   "outputs": [
    {
     "name": "stdout",
     "output_type": "stream",
     "text": [
      "304402200f980ffde703879457866a25ec501be5538d6ebcdb010e1b596014c072912f3e022058e3b16d5b50f9b5f51299a05848dfcb6e61dd7884ca63f4506008842fdfded601\n",
      "3044022024e1f5923706b4fdd3bfddd85ba0fccef0ee8b73b711ee88d0c212e86232606a022028af4b417f39fe3229732cc9f780c1db02abba3995680cbc5993b01ae151f3ad01\n",
      "304402207206e641572a97ef66134a99f4abc385a4c683f17a6f6b3053b03de7afa81846022058e7a80ecc883578c172095a85227d6e77e4dd01beaf8e3393429ec62a6d361c01\n"
     ]
    }
   ],
   "source": [
    "# Useful bx functions: input-sign\n",
    "signature1=$(bx input-sign --sign_type all --index 0 $privkey_m_44h_1h_1h_0_0 \"$previous_output_script1\" $my_tx)\n",
    "signature2=$(bx input-sign --sign_type all --index 1 $privkey_m_44h_1h_1h_0_1 \"$previous_output_script2\" $my_tx)\n",
    "signature3=$(bx input-sign --sign_type all --index 2 $privkey_m_44h_1h_1h_0_2 \"$previous_output_script3\" $my_tx)\n",
    "#echo $my_tx\n",
    "echo $signature1\n",
    "echo $signature2\n",
    "echo $signature3"
   ]
  },
  {
   "cell_type": "markdown",
   "metadata": {},
   "source": [
    "**Set the input script into the finalised transaction.**"
   ]
  },
  {
   "cell_type": "code",
   "execution_count": 89,
   "metadata": {},
   "outputs": [
    {
     "name": "stdout",
     "output_type": "stream",
     "text": [
      "010000000300c9e3f2f73f999f0696843b805d754ca5016bc4f85f6f0898d6a3019ecf54a9000000006a47304402200f980ffde703879457866a25ec501be5538d6ebcdb010e1b596014c072912f3e022058e3b16d5b50f9b5f51299a05848dfcb6e61dd7884ca63f4506008842fdfded60121028ad459258584b2b34cb2a2498528180de6ae548d77ba79b8c7e696a727bfe061ffffffff00c9e3f2f73f999f0696843b805d754ca5016bc4f85f6f0898d6a3019ecf54a9010000006a473044022024e1f5923706b4fdd3bfddd85ba0fccef0ee8b73b711ee88d0c212e86232606a022028af4b417f39fe3229732cc9f780c1db02abba3995680cbc5993b01ae151f3ad012102733dfd6510b3ef945902ba1419ed5cbb5b79994dedc96a96c9e424556554519effffffff00c9e3f2f73f999f0696843b805d754ca5016bc4f85f6f0898d6a3019ecf54a9020000006a47304402207206e641572a97ef66134a99f4abc385a4c683f17a6f6b3053b03de7afa81846022058e7a80ecc883578c172095a85227d6e77e4dd01beaf8e3393429ec62a6d361c012103866447d2e4a357e7b3f563c8550af1e83e5d85d0c502bb29f5ae85b7920b6fd2ffffffff0170170000000000001976a9147c395509796f7014290139c9d561ef84bb3b4d3b88ac00000000\n"
     ]
    }
   ],
   "source": [
    "# Useful bx functions: input-set\n",
    "my_tx=$(bx input-set --index 0 \"[$signature1] [$pubkey_m_44h_1h_1h_0_0]\" $my_tx)\n",
    "my_tx=$(bx input-set --index 1 \"[$signature2] [$pubkey_m_44h_1h_1h_0_1]\" $my_tx)\n",
    "my_tx=$(bx input-set --index 2 \"[$signature3] [$pubkey_m_44h_1h_1h_0_2]\" $my_tx)\n",
    "echo $my_tx"
   ]
  },
  {
   "cell_type": "markdown",
   "metadata": {},
   "source": [
    "## 3. Validate & Broadcast the endorsed transaction"
   ]
  },
  {
   "cell_type": "code",
   "execution_count": 90,
   "metadata": {},
   "outputs": [
    {
     "name": "stdout",
     "output_type": "stream",
     "text": [
      "invalid script\n"
     ]
    },
    {
     "ename": "",
     "evalue": "255",
     "output_type": "error",
     "traceback": []
    }
   ],
   "source": [
    "bx validate-tx $my_tx"
   ]
  },
  {
   "cell_type": "code",
   "execution_count": 91,
   "metadata": {},
   "outputs": [
    {
     "name": "stdout",
     "output_type": "stream",
     "text": [
      "invalid script\n"
     ]
    },
    {
     "ename": "",
     "evalue": "255",
     "output_type": "error",
     "traceback": []
    }
   ],
   "source": [
    "bx send-tx $my_tx"
   ]
  },
  {
   "cell_type": "markdown",
   "metadata": {},
   "source": [
    "## Check history for sending and a receiving address"
   ]
  },
  {
   "cell_type": "code",
   "execution_count": null,
   "metadata": {},
   "outputs": [],
   "source": [
    "# Useful bx functions: fetch-history"
   ]
  }
 ],
 "metadata": {
  "kernelspec": {
   "display_name": "Bash",
   "language": "bash",
   "name": "bash"
  },
  "language_info": {
   "codemirror_mode": "shell",
   "file_extension": ".sh",
   "mimetype": "text/x-sh",
   "name": "bash"
  }
 },
 "nbformat": 4,
 "nbformat_minor": 2
}
