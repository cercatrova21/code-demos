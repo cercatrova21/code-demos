{
 "cells": [
  {
   "cell_type": "markdown",
   "metadata": {},
   "source": [
    "## Preliminaries"
   ]
  },
  {
   "cell_type": "markdown",
   "metadata": {},
   "source": [
    "### The most important Jupyter notebook tricks\n",
    " - Press Esc to escape edit mode and add / remove cells etc.\n",
    " - When not in Edit mode: A inserts a cell above, B below\n",
    " - When not in Edit mode: DD deletes a cell\n",
    " - When in Edit mode: Shift + Enter executes the cell\n",
    " - Interrupt a hung kernel with the Stop button\n",
    " - Or restart under Kernel -> Restart"
   ]
  },
  {
   "cell_type": "markdown",
   "metadata": {},
   "source": [
    "### The most important bash tricks"
   ]
  },
  {
   "cell_type": "code",
   "execution_count": 160,
   "metadata": {},
   "outputs": [
    {
     "name": "stdout",
     "output_type": "stream",
     "text": [
      "gadget deputy suspect page keep gloom wealth noble width organ tragic concert wire dismiss order raccoon this erosion\n",
      "9c138f60635b1d50ceb35699ccf39b257ed7c840ec2dba1c\n"
     ]
    }
   ],
   "source": [
    "# pipe output to the next command with |\n",
    "# provides the seed as input to the \"mnemonic-new command\"\n",
    "bx seed | bx mnemonic-new\n",
    "\n",
    "# capture output in variables with var=$(...). Notice the missing spaces around =\n",
    "var=$(bx seed)\n",
    "\n",
    "# later refer to the variable with $. echo prints stuff\n",
    "echo $var"
   ]
  },
  {
   "cell_type": "markdown",
   "metadata": {},
   "source": [
    "### Explore the bx tool"
   ]
  },
  {
   "cell_type": "code",
   "execution_count": 158,
   "metadata": {},
   "outputs": [
    {
     "name": "stdout",
     "output_type": "stream",
     "text": [
      "\n",
      "Usage: bx COMMAND [--help]\n",
      "\n",
      "Version: 3.2.0\n",
      "\n",
      "Info: The bx commands are:\n",
      "\n",
      "address-decode\n",
      "address-embed\n",
      "address-encode\n",
      "base16-decode\n",
      "base16-encode\n",
      "base58-decode\n",
      "base58-encode\n",
      "base58check-decode\n",
      "base58check-encode\n",
      "base64-decode\n",
      "base64-encode\n",
      "bitcoin160\n",
      "bitcoin256\n",
      "btc-to-satoshi\n",
      "cert-new\n",
      "cert-public\n",
      "ec-add\n",
      "ec-add-secrets\n",
      "ec-multiply\n",
      "ec-multiply-secrets\n",
      "ec-new\n",
      "ec-to-address\n",
      "ec-to-ek\n",
      "ec-to-public\n",
      "ec-to-wif\n",
      "ek-address\n",
      "ek-new\n",
      "ek-public\n",
      "ek-public-to-address\n",
      "ek-public-to-ec\n",
      "ek-to-address\n",
      "ek-to-ec\n",
      "fetch-balance\n",
      "fetch-header\n",
      "fetch-height\n",
      "fetch-history\n",
      "fetch-public-key\n",
      "fetch-stealth\n",
      "fetch-tx\n",
      "fetch-tx-index\n",
      "fetch-utxo\n",
      "hd-new\n",
      "hd-private\n",
      "hd-public\n",
      "hd-to-ec\n",
      "hd-to-public\n",
      "help\n",
      "input-set\n",
      "input-sign\n",
      "input-validate\n",
      "message-sign\n",
      "message-validate\n",
      "mnemonic-new\n",
      "mnemonic-to-seed\n",
      "qrcode\n",
      "ripemd160\n",
      "satoshi-to-btc\n",
      "script-decode\n",
      "script-encode\n",
      "script-to-address\n",
      "seed\n",
      "send-tx\n",
      "send-tx-node\n",
      "send-tx-p2p\n",
      "settings\n",
      "sha160\n",
      "sha256\n",
      "sha512\n",
      "stealth-decode\n",
      "stealth-encode\n",
      "stealth-public\n",
      "stealth-secret\n",
      "stealth-shared\n",
      "token-new\n",
      "tx-decode\n",
      "tx-encode\n",
      "tx-sign\n",
      "uri-decode\n",
      "uri-encode\n",
      "validate-tx\n",
      "watch-address\n",
      "watch-stealth\n",
      "watch-tx\n",
      "wif-to-ec\n",
      "wif-to-public\n",
      "wrap-decode\n",
      "wrap-encode\n",
      "\n",
      "Bitcoin Explorer home page:\n",
      "\n",
      "https://github.com/libbitcoin/libbitcoin-explorer\n"
     ]
    }
   ],
   "source": [
    "bx help"
   ]
  },
  {
   "cell_type": "code",
   "execution_count": 159,
   "metadata": {},
   "outputs": [
    {
     "name": "stdout",
     "output_type": "stream",
     "text": [
      "\n",
      "Usage: bx tx-sign [-h] [--config value] EC_PRIVATE_KEY [TRANSACTION]...  \n",
      "\n",
      "Info: Sign a set of transactions using a private key. Output is suitable \n",
      "for sending to Bitcoin network.                                          \n",
      "\n",
      "Options (named):\n",
      "\n",
      "-c [--config]        The path to the configuration settings file.        \n",
      "-h [--help]          Get a description and instructions for this command.\n",
      "\n",
      "Arguments (positional):\n",
      "\n",
      "EC_PRIVATE_KEY       The EC private key to be used for signing.          \n",
      "TRANSACTION          The set of Base16 transactions. If not specified the\n",
      "                     transactions are read from STDIN.                   \n"
     ]
    }
   ],
   "source": [
    "bx help tx-sign"
   ]
  },
  {
   "cell_type": "markdown",
   "metadata": {},
   "source": [
    "### Ensure testnet is configured"
   ]
  },
  {
   "cell_type": "code",
   "execution_count": 83,
   "metadata": {},
   "outputs": [
    {
     "name": "stdout",
     "output_type": "stream",
     "text": [
      "2104368\n"
     ]
    }
   ],
   "source": [
    "export BX_CONFIG=\"../bx_config_files/bx_testnet.cfg\"\n",
    "bx fetch-height"
   ]
  },
  {
   "cell_type": "markdown",
   "metadata": {},
   "source": [
    "# Transaction Build - BX Example\n",
    "In this BX tutorial, we construct a transaction which spends one P2PKH output to three (not six) other outputs.\n",
    "\n",
    "<img src=\"images/first_transaction.jpg\" alt=\"drawing\" style=\"\" width=\"700px\"/>\n",
    "\n"
   ]
  },
  {
   "cell_type": "markdown",
   "metadata": {},
   "source": [
    "##  1. Locate your UTXO\n",
    "A testnet address has been funded for you. Use the `sha256` value of your email address as a private key and derive the corresponding public key, as well as testnet P2PKH address. Find the UTXO that is locked to that P2PKH output script."
   ]
  },
  {
   "cell_type": "code",
   "execution_count": 3,
   "metadata": {},
   "outputs": [],
   "source": [
    "# Find your address\n",
    "# Useful bx functions: ec-to-public, ripemd160, ec-to-address"
   ]
  },
  {
   "cell_type": "markdown",
   "metadata": {},
   "source": [
    "<hr style=\"border: 0.5px dashed #000;\">\n",
    "\n",
    "## 1. Setup receiving wallet.\n"
   ]
  },
  {
   "cell_type": "markdown",
   "metadata": {},
   "source": [
    "### Create new mnemonic and derive hd master keys."
   ]
  },
  {
   "cell_type": "code",
   "execution_count": 140,
   "metadata": {},
   "outputs": [
    {
     "name": "stdout",
     "output_type": "stream",
     "text": [
      "fox top picnic alone settle equal roast album knife april style course modify flame wide illness rocket wink\n",
      "tprv8ZgxMBicQKsPeDiHqrTreAtDMMmdfAR4nQBdtDBDrVuXZUxscLFykMbWX97RLakhwFN2CwK5W3vrMELgAsGusPy7dKy1hD43VFHEwkT3Lh9\n",
      "tpubD6NzVbkrYhZ4Xgk5jW8T3aYKvPHZpVbyMhnRAjDXGmhvPyDeEj5ZvrDNhJknwPBTTfiRkp1QpRvbQiF6Voqau89cNftaRtemZeQJUbxGS9Y\n"
     ]
    }
   ],
   "source": [
    "my_mnemonic=$(bx seed | bx mnemonic-new)\n",
    "hd_master_private=$(bx mnemonic-to-seed $my_mnemonic | bx hd-new)\n",
    "hd_master_public=$(bx hd-to-public $hd_master_private)\n",
    "echo $my_mnemonic\n",
    "echo $hd_master_private\n",
    "echo $hd_master_public"
   ]
  },
  {
   "cell_type": "markdown",
   "metadata": {},
   "source": [
    "### Account 1: Generate destination key pairs.\n",
    "\n",
    "You will spend the previously received utxo to receiving addresses from `account 1`, namely `/44'/1'/1'/0/0`, `/44'/1'/1'/0/1`, `/44'/1'/1'/0/2`, `/44'/1'/1'/0/3` ...\n"
   ]
  },
  {
   "cell_type": "code",
   "execution_count": null,
   "metadata": {},
   "outputs": [],
   "source": [
    "# Useful bx functions: hd-private, hd-to-public, sha256, ripemd160"
   ]
  },
  {
   "cell_type": "markdown",
   "metadata": {},
   "source": [
    "## 2. Spending a P2PKH output."
   ]
  },
  {
   "cell_type": "markdown",
   "metadata": {},
   "source": [
    "### Create output scripts."
   ]
  },
  {
   "cell_type": "markdown",
   "metadata": {},
   "source": [
    "* **Compose P2PKH(destination public key hash) output scripts for each destination.**"
   ]
  },
  {
   "cell_type": "code",
   "execution_count": null,
   "metadata": {},
   "outputs": [],
   "source": [
    "# Useful bx functions: script-encode"
   ]
  },
  {
   "cell_type": "markdown",
   "metadata": {},
   "source": [
    "### Construct transaction template for signing.\n",
    "\n",
    "* `sequence: 0xffffffff(hex)/4294967295(dec)`"
   ]
  },
  {
   "cell_type": "code",
   "execution_count": null,
   "metadata": {},
   "outputs": [],
   "source": [
    "# Useful bx functions: tx-encode"
   ]
  },
  {
   "cell_type": "markdown",
   "metadata": {},
   "source": [
    "### Sign transaction."
   ]
  },
  {
   "cell_type": "markdown",
   "metadata": {},
   "source": [
    "**Fetch previous output script (check output index ! )**"
   ]
  },
  {
   "cell_type": "code",
   "execution_count": null,
   "metadata": {},
   "outputs": [],
   "source": [
    "# Useful bx functions: fetch-tx"
   ]
  },
  {
   "cell_type": "markdown",
   "metadata": {},
   "source": [
    "**Sign transaction with previous output script.**"
   ]
  },
  {
   "cell_type": "code",
   "execution_count": null,
   "metadata": {},
   "outputs": [],
   "source": [
    "# Useful bx functions: input-sign"
   ]
  },
  {
   "cell_type": "markdown",
   "metadata": {},
   "source": [
    "**Set the input script into the finalised transaction.**"
   ]
  },
  {
   "cell_type": "code",
   "execution_count": null,
   "metadata": {},
   "outputs": [],
   "source": [
    "# Useful bx functions: input-set"
   ]
  },
  {
   "cell_type": "markdown",
   "metadata": {},
   "source": [
    "## 3. Validate & Broadcast the endorsed transaction"
   ]
  },
  {
   "cell_type": "code",
   "execution_count": 151,
   "metadata": {},
   "outputs": [
    {
     "name": "stdout",
     "output_type": "stream",
     "text": [
      "The transaction is valid.\n"
     ]
    }
   ],
   "source": [
    "bx validate-tx $my_tx"
   ]
  },
  {
   "cell_type": "code",
   "execution_count": 152,
   "metadata": {},
   "outputs": [
    {
     "name": "stdout",
     "output_type": "stream",
     "text": [
      "Sent transaction.\n"
     ]
    }
   ],
   "source": [
    "bx send-tx $my_tx"
   ]
  },
  {
   "cell_type": "markdown",
   "metadata": {},
   "source": [
    "## Check history for sending and a receiving address"
   ]
  },
  {
   "cell_type": "code",
   "execution_count": null,
   "metadata": {},
   "outputs": [],
   "source": [
    "# Useful bx functions: fetch-history"
   ]
  }
 ],
 "metadata": {
  "kernelspec": {
   "display_name": "Bash",
   "language": "bash",
   "name": "bash"
  },
  "language_info": {
   "codemirror_mode": "shell",
   "file_extension": ".sh",
   "mimetype": "text/x-sh",
   "name": "bash"
  }
 },
 "nbformat": 4,
 "nbformat_minor": 2
}
