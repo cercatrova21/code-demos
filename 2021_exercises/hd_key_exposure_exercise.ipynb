{
 "cells": [
  {
   "cell_type": "markdown",
   "metadata": {},
   "source": [
    "# HD Parent Key Exposure: Example (c++)\n",
    "\n",
    "<br>\n",
    "<img src=\"images/hd_parent_exposure.jpg\" alt=\"drawing\" style=\"\" width=\"700px\"/>\n",
    "\n"
   ]
  },
  {
   "cell_type": "markdown",
   "metadata": {},
   "source": [
    "The above figure briefly recaps how parent private keys can be leaked based on child private keys when deriving non-hardened children.\n",
    "\n",
    "The goal of this exercise is to demonstrate how this works.\n",
    "\n",
    "If you need some hints, you can check out this implementation in the `pywallet` library:\n",
    "https://github.com/ranaroussi/pywallet/blob/468622dcf993a27a5b585289b2724986c02a1fbc/pywallet/utils/bip32.py#L380-L429"
   ]
  },
  {
   "cell_type": "code",
   "execution_count": null,
   "metadata": {},
   "outputs": [],
   "source": [
    "# We use this function to call bx from Python, see below for an example\n",
    "import subprocess\n",
    "def call(cmd):\n",
    "    res = subprocess.check_output([cmd], shell=True)\n",
    "    return res.strip().decode()"
   ]
  },
  {
   "cell_type": "markdown",
   "metadata": {},
   "source": [
    "### Derive new parent key pair"
   ]
  },
  {
   "cell_type": "code",
   "execution_count": null,
   "metadata": {},
   "outputs": [],
   "source": [
    "parent_xpriv = call('bx seed | bx mnemonic-new | bx mnemonic-to-seed | bx hd-new')\n",
    "parent_xpub = call(f'bx hd-to-public {parent_xpriv}')\n",
    "print(parent_xpriv)\n",
    "print(parent_xpub)\n",
    "\n",
    "parent_priv = call(f'bx hd-to-ec {parent_xpriv}')\n",
    "print(parent_priv)"
   ]
  },
  {
   "cell_type": "markdown",
   "metadata": {},
   "source": [
    "### Derive non-hardenend children"
   ]
  },
  {
   "cell_type": "code",
   "execution_count": null,
   "metadata": {},
   "outputs": [],
   "source": [
    "child_xpriv = \n",
    "child_priv = \n",
    "child_xpub = \n",
    "\n",
    "print(\"Exposed material:\")\n",
    "print(f\"Parent xpub: {parent_xpub}\")\n",
    "print(f\"Child priv: {child_priv}\")\n",
    "print(\"Child index: 0\")"
   ]
  },
  {
   "cell_type": "markdown",
   "metadata": {},
   "source": [
    "### Step 1: Extract chaincode from parent xpub"
   ]
  },
  {
   "cell_type": "code",
   "execution_count": null,
   "metadata": {},
   "outputs": [],
   "source": [
    "import base58\n",
    "\n",
    "chaincode = \n",
    "print(chaincode)"
   ]
  },
  {
   "cell_type": "markdown",
   "metadata": {},
   "source": [
    "### Step2: Compute L256 bits as HMAC-SHA512(Parent Chain Code, Parent Public Key || Child Index)"
   ]
  },
  {
   "cell_type": "code",
   "execution_count": null,
   "metadata": {},
   "outputs": [],
   "source": [
    "import hmac\n",
    "import hashlib\n",
    "\n",
    "l256 = \n",
    "\n",
    "print(l256)"
   ]
  },
  {
   "cell_type": "markdown",
   "metadata": {},
   "source": [
    "### Step 3: Compute Parent private key as child private key - L256"
   ]
  },
  {
   "cell_type": "code",
   "execution_count": null,
   "metadata": {},
   "outputs": [],
   "source": [
    "group_order = \"fffffffffffffffffffffffffffffffffffffffffffffffffffffffefffffc2f\"\n",
    "group_order_int = int(group_order, 16)\n",
    "\n",
    "print(parent_priv)\n",
    "print(computed_parent_priv)"
   ]
  },
  {
   "cell_type": "code",
   "execution_count": null,
   "metadata": {},
   "outputs": [],
   "source": []
  }
 ],
 "metadata": {
  "kernelspec": {
   "display_name": "Python 3 (ipykernel)",
   "language": "python",
   "name": "python3"
  },
  "language_info": {
   "codemirror_mode": {
    "name": "ipython",
    "version": 3
   },
   "file_extension": ".py",
   "mimetype": "text/x-python",
   "name": "python",
   "nbconvert_exporter": "python",
   "pygments_lexer": "ipython3",
   "version": "3.8.10"
  }
 },
 "nbformat": 4,
 "nbformat_minor": 2
}
