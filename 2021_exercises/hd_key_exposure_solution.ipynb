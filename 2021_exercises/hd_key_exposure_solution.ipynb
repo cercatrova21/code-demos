{
 "cells": [
  {
   "cell_type": "code",
   "execution_count": 58,
   "metadata": {},
   "outputs": [],
   "source": [
    "# We use this function to call bx from Python, see below for an example\n",
    "import subprocess\n",
    "def call(cmd):\n",
    "    res = subprocess.check_output([cmd], shell=True)\n",
    "    return res.strip().decode()\n",
    "\n",
    "import base58\n",
    "import hmac\n",
    "import hashlib"
   ]
  },
  {
   "cell_type": "markdown",
   "metadata": {},
   "source": [
    "## Warmup: Show that the child private key is the parent private key + L256"
   ]
  },
  {
   "cell_type": "code",
   "execution_count": 61,
   "metadata": {},
   "outputs": [
    {
     "name": "stdout",
     "output_type": "stream",
     "text": [
      "be1a80657103bda1c21e440a06c618f42e51a1a0a14e6bf9b16dd9e4cfe31824\n",
      "be1a80657103bda1c21e440a06c618f42e51a1a0a14e6bf9b16dd9e4cfe31824\n"
     ]
    }
   ],
   "source": [
    "# use base58.b58decode to decode the xpub or xprv and get the chaincode bytes\n",
    "\n",
    "parent_xpriv = call('bx seed | bx mnemonic-new | bx mnemonic-to-seed | bx hd-new')\n",
    "parent_xpub = call(f'bx hd-to-public {parent_xpriv}')\n",
    "parent_priv = call(f'bx hd-to-ec {parent_xpriv}')\n",
    "child_xpriv = call(f'bx hd-private --index 0 {parent_xpriv}')\n",
    "child_xpub = call(f'bx hd-to-public {child_xpriv}')\n",
    "child_priv = call(f'bx hd-to-ec {child_xpriv}')\n",
    "\n",
    "xpub_bytes = base58.b58decode(parent_xpub)\n",
    "chaincode = xpub_bytes[13:13+32]\n",
    "parent_pub = call(f'bx hd-to-ec {parent_xpub}')\n",
    "concatenated = parent_pub + \"00000000\"\n",
    "\n",
    "l256 = hmac.new(\n",
    "    chaincode,\n",
    "    msg=bytes.fromhex(concatenated),\n",
    "    digestmod=hashlib.sha512\n",
    ").hexdigest()[:64]\n",
    "\n",
    "print(call(f'bx ec-add-secrets {parent_priv} {l256}'))\n",
    "print(child_priv)"
   ]
  },
  {
   "cell_type": "markdown",
   "metadata": {},
   "source": [
    "# Main Exercise: HD Parent Key Exposure\n",
    "\n",
    "<br>\n",
    "<img src=\"images/hd_parent_exposure.jpg\" alt=\"drawing\" style=\"\" width=\"700px\"/>\n",
    "\n"
   ]
  },
  {
   "cell_type": "markdown",
   "metadata": {},
   "source": [
    "The above figure briefly recaps how parent private keys can be leaked based on child private keys when deriving non-hardened children.\n",
    "\n",
    "The goal of this exercise is to demonstrate how this works.\n",
    "\n",
    "If you need some hints, you can check out this implementation in the `pywallet` library:\n",
    "https://github.com/ranaroussi/pywallet/blob/468622dcf993a27a5b585289b2724986c02a1fbc/pywallet/utils/bip32.py#L380-L429"
   ]
  },
  {
   "cell_type": "markdown",
   "metadata": {},
   "source": [
    "### Derive new parent key pair"
   ]
  },
  {
   "cell_type": "code",
   "execution_count": 5,
   "metadata": {},
   "outputs": [
    {
     "name": "stdout",
     "output_type": "stream",
     "text": [
      "xprv9s21ZrQH143K37TEUha1TeQKBdLZiYoMt2gyrMLu5cUazKpY1UwsVVGCvx2fzfXvTaa5JzDbWtXmCmNZ9K1c8NLG2ZrV8dNkWdm3f6r8e9D\n",
      "xpub661MyMwAqRbcFbXhaj71pnM3jfB481XDFFcaejkWdx1Zs89gZ2G83HagnBq3yJUxTP858J8tA9hUgVqH2Z3mH6tAibibA3uFkXsTTQyfZfD\n",
      "f0cfd7658dfe19e7cf855ebf727998d7e1a8f3c050576bb29b0016bcdde8e90b\n"
     ]
    }
   ],
   "source": [
    "parent_xpriv = call('bx seed | bx mnemonic-new | bx mnemonic-to-seed | bx hd-new')\n",
    "parent_xpub = call(f'bx hd-to-public {parent_xpriv}')\n",
    "print(parent_xpriv)\n",
    "print(parent_xpub)\n",
    "\n",
    "parent_priv = call(f'bx hd-to-ec {parent_xpriv}')\n",
    "print(parent_priv)"
   ]
  },
  {
   "cell_type": "markdown",
   "metadata": {},
   "source": [
    "### Derive non-hardenend children"
   ]
  },
  {
   "cell_type": "code",
   "execution_count": 9,
   "metadata": {},
   "outputs": [
    {
     "name": "stdout",
     "output_type": "stream",
     "text": [
      "Exposed material:\n",
      "Parent xpub: xpub661MyMwAqRbcFbXhaj71pnM3jfB481XDFFcaejkWdx1Zs89gZ2G83HagnBq3yJUxTP858J8tA9hUgVqH2Z3mH6tAibibA3uFkXsTTQyfZfD\n",
      "Child priv: 01ce06974af6b56232c01bf15f1cc98228fdcdad699aa8b9dcc55df5154e5b47\n",
      "Child index: 0\n"
     ]
    }
   ],
   "source": [
    "child_xpriv = call(f'bx hd-private --index 0 {parent_xpriv}')\n",
    "child_priv = call(f'bx hd-to-ec {child_xpriv}')\n",
    "child_xpub = call(f'bx hd-to-public {child_xpriv}')\n",
    "\n",
    "print(\"Exposed material:\")\n",
    "print(f\"Parent xpub: {parent_xpub}\")\n",
    "print(f\"Child priv: {child_priv}\")\n",
    "print(\"Child index: 0\")"
   ]
  },
  {
   "cell_type": "markdown",
   "metadata": {},
   "source": [
    "### Step 1: Extract chaincode from parent xpub"
   ]
  },
  {
   "cell_type": "code",
   "execution_count": 10,
   "metadata": {},
   "outputs": [
    {
     "name": "stdout",
     "output_type": "stream",
     "text": [
      "[105, 205, 144, 79, 94, 145, 161, 221, 2, 16, 144, 70, 198, 153, 189, 13, 234, 28, 112, 5, 148, 19, 13, 1, 31, 245, 64, 48, 232, 4, 156, 159]\n"
     ]
    }
   ],
   "source": [
    "xpub_bytes = base58.b58decode(parent_xpub)\n",
    "chaincode = xpub_bytes[13:13+32]\n",
    "print(list(chaincode))"
   ]
  },
  {
   "cell_type": "markdown",
   "metadata": {},
   "source": [
    "### Step2: Compute L256 bits as HMAC-SHA512(Parent Chain Code, Parent Public Key || Child Index)"
   ]
  },
  {
   "cell_type": "code",
   "execution_count": 11,
   "metadata": {},
   "outputs": [
    {
     "name": "stdout",
     "output_type": "stream",
     "text": [
      "024eb7dbdf982285dc382026a48f1c194b2166d5e3d0f7aa65c808a040efa02571\n"
     ]
    }
   ],
   "source": [
    "parent_pub = call(f'bx hd-to-ec {parent_xpub}')\n",
    "print(parent_pub)\n",
    "concatenated = parent_pub + \"00000000\""
   ]
  },
  {
   "cell_type": "code",
   "execution_count": 13,
   "metadata": {},
   "outputs": [
    {
     "name": "stdout",
     "output_type": "stream",
     "text": [
      "10fe2f31bcf89b7a633abd31eca330a90203b6d3c88bdd430197a5c5079bb37d\n"
     ]
    }
   ],
   "source": [
    "l256 = hmac.new(\n",
    "    chaincode,\n",
    "    msg=bytes.fromhex(concatenated),\n",
    "    digestmod=hashlib.sha512\n",
    ").hexdigest()[:64]\n",
    "\n",
    "print(l256)"
   ]
  },
  {
   "cell_type": "markdown",
   "metadata": {},
   "source": [
    "### Step 3: Compute Parent private key as child private key - L256"
   ]
  },
  {
   "cell_type": "code",
   "execution_count": 75,
   "metadata": {},
   "outputs": [
    {
     "name": "stdout",
     "output_type": "stream",
     "text": [
      "daec35a2e4430aac0bf4780f1643fc127de7c153a66d4e9277d166557e139b12\n",
      "daec35a2e4430aac0bf4780f1643fc1138969e3a55b5eece37a3c4e34e49e024\n",
      "The two only share the upper 15.5 bytes 🤔\n"
     ]
    }
   ],
   "source": [
    "from itertools import takewhile\n",
    "\n",
    "group_order = \"fffffffffffffffffffffffffffffffffffffffffffffffffffffffefffffc2f\"\n",
    "\n",
    "group_order_m_l256 = hex(int(group_order, 16) - int(l256, 16))[2:]\n",
    "\n",
    "parent_priv_computed = call(f'bx ec-add-secrets {child_priv} {group_order_m_l256}')\n",
    "print(parent_priv_computed)\n",
    "print(parent_priv)\n",
    "print(f\"The two only share the upper {len(list(takewhile(lambda t: t[0]==t[1], zip(parent_priv, parent_priv_computed))))/2} bytes\", u\"\\U0001F914\")"
   ]
  }
 ],
 "metadata": {
  "kernelspec": {
   "display_name": "Python 3 (ipykernel)",
   "language": "python",
   "name": "python3"
  },
  "language_info": {
   "codemirror_mode": {
    "name": "ipython",
    "version": 3
   },
   "file_extension": ".py",
   "mimetype": "text/x-python",
   "name": "python",
   "nbconvert_exporter": "python",
   "pygments_lexer": "ipython3",
   "version": "3.8.10"
  }
 },
 "nbformat": 4,
 "nbformat_minor": 2
}
