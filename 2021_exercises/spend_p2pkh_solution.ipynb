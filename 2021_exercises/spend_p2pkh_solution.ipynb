{
 "cells": [
  {
   "cell_type": "markdown",
   "metadata": {},
   "source": [
    "## Preliminaries"
   ]
  },
  {
   "cell_type": "markdown",
   "metadata": {},
   "source": [
    "### The most important Jupyter notebook tricks\n",
    " - Press Esc to escape edit mode and add / remove cells etc.\n",
    " - When not in Edit mode: A inserts a cell above, B below\n",
    " - When not in Edit mode: DD deletes a cell\n",
    " - When in Edit mode: Shift + Enter executes the cell\n",
    " - Interrupt a hung kernel with the Stop button\n",
    " - Or restart under Kernel -> Restart"
   ]
  },
  {
   "cell_type": "markdown",
   "metadata": {},
   "source": [
    "### The most important bash tricks"
   ]
  },
  {
   "cell_type": "code",
   "execution_count": 160,
   "metadata": {},
   "outputs": [
    {
     "name": "stdout",
     "output_type": "stream",
     "text": [
      "gadget deputy suspect page keep gloom wealth noble width organ tragic concert wire dismiss order raccoon this erosion\n",
      "9c138f60635b1d50ceb35699ccf39b257ed7c840ec2dba1c\n"
     ]
    }
   ],
   "source": [
    "# pipe output to the next command with |\n",
    "# provides the seed as input to the \"mnemonic-new command\"\n",
    "bx seed | bx mnemonic-new\n",
    "\n",
    "# capture output in variables with var=$(...). Notice the missing spaces around =\n",
    "var=$(bx seed)\n",
    "\n",
    "# later refer to the variable with $. echo prints stuff\n",
    "echo $var"
   ]
  },
  {
   "cell_type": "markdown",
   "metadata": {},
   "source": [
    "### Explore the bx tool"
   ]
  },
  {
   "cell_type": "code",
   "execution_count": 158,
   "metadata": {},
   "outputs": [
    {
     "name": "stdout",
     "output_type": "stream",
     "text": [
      "\n",
      "Usage: bx COMMAND [--help]\n",
      "\n",
      "Version: 3.2.0\n",
      "\n",
      "Info: The bx commands are:\n",
      "\n",
      "address-decode\n",
      "address-embed\n",
      "address-encode\n",
      "base16-decode\n",
      "base16-encode\n",
      "base58-decode\n",
      "base58-encode\n",
      "base58check-decode\n",
      "base58check-encode\n",
      "base64-decode\n",
      "base64-encode\n",
      "bitcoin160\n",
      "bitcoin256\n",
      "btc-to-satoshi\n",
      "cert-new\n",
      "cert-public\n",
      "ec-add\n",
      "ec-add-secrets\n",
      "ec-multiply\n",
      "ec-multiply-secrets\n",
      "ec-new\n",
      "ec-to-address\n",
      "ec-to-ek\n",
      "ec-to-public\n",
      "ec-to-wif\n",
      "ek-address\n",
      "ek-new\n",
      "ek-public\n",
      "ek-public-to-address\n",
      "ek-public-to-ec\n",
      "ek-to-address\n",
      "ek-to-ec\n",
      "fetch-balance\n",
      "fetch-header\n",
      "fetch-height\n",
      "fetch-history\n",
      "fetch-public-key\n",
      "fetch-stealth\n",
      "fetch-tx\n",
      "fetch-tx-index\n",
      "fetch-utxo\n",
      "hd-new\n",
      "hd-private\n",
      "hd-public\n",
      "hd-to-ec\n",
      "hd-to-public\n",
      "help\n",
      "input-set\n",
      "input-sign\n",
      "input-validate\n",
      "message-sign\n",
      "message-validate\n",
      "mnemonic-new\n",
      "mnemonic-to-seed\n",
      "qrcode\n",
      "ripemd160\n",
      "satoshi-to-btc\n",
      "script-decode\n",
      "script-encode\n",
      "script-to-address\n",
      "seed\n",
      "send-tx\n",
      "send-tx-node\n",
      "send-tx-p2p\n",
      "settings\n",
      "sha160\n",
      "sha256\n",
      "sha512\n",
      "stealth-decode\n",
      "stealth-encode\n",
      "stealth-public\n",
      "stealth-secret\n",
      "stealth-shared\n",
      "token-new\n",
      "tx-decode\n",
      "tx-encode\n",
      "tx-sign\n",
      "uri-decode\n",
      "uri-encode\n",
      "validate-tx\n",
      "watch-address\n",
      "watch-stealth\n",
      "watch-tx\n",
      "wif-to-ec\n",
      "wif-to-public\n",
      "wrap-decode\n",
      "wrap-encode\n",
      "\n",
      "Bitcoin Explorer home page:\n",
      "\n",
      "https://github.com/libbitcoin/libbitcoin-explorer\n"
     ]
    }
   ],
   "source": [
    "bx help"
   ]
  },
  {
   "cell_type": "code",
   "execution_count": 159,
   "metadata": {},
   "outputs": [
    {
     "name": "stdout",
     "output_type": "stream",
     "text": [
      "\n",
      "Usage: bx tx-sign [-h] [--config value] EC_PRIVATE_KEY [TRANSACTION]...  \n",
      "\n",
      "Info: Sign a set of transactions using a private key. Output is suitable \n",
      "for sending to Bitcoin network.                                          \n",
      "\n",
      "Options (named):\n",
      "\n",
      "-c [--config]        The path to the configuration settings file.        \n",
      "-h [--help]          Get a description and instructions for this command.\n",
      "\n",
      "Arguments (positional):\n",
      "\n",
      "EC_PRIVATE_KEY       The EC private key to be used for signing.          \n",
      "TRANSACTION          The set of Base16 transactions. If not specified the\n",
      "                     transactions are read from STDIN.                   \n"
     ]
    }
   ],
   "source": [
    "bx help tx-sign"
   ]
  },
  {
   "cell_type": "markdown",
   "metadata": {},
   "source": [
    "### Ensure testnet is configured"
   ]
  },
  {
   "cell_type": "code",
   "execution_count": 83,
   "metadata": {},
   "outputs": [
    {
     "name": "stdout",
     "output_type": "stream",
     "text": [
      "2104368\n"
     ]
    }
   ],
   "source": [
    "export BX_CONFIG=\"../bx_config_files/bx_testnet.cfg\"\n",
    "bx fetch-height"
   ]
  },
  {
   "cell_type": "markdown",
   "metadata": {},
   "source": [
    "# Transaction Build - BX Example\n",
    "In this BX tutorial, we construct a transaction which spends one P2PKH output to three (not six) other outputs.\n",
    "\n",
    "<img src=\"images/first_transaction.jpg\" alt=\"drawing\" style=\"\" width=\"700px\"/>\n",
    "\n"
   ]
  },
  {
   "cell_type": "markdown",
   "metadata": {},
   "source": [
    "##  1. Locate your UTXO\n",
    "A testnet address has been funded for you. Use the `sha256` value of your email address as a private key and derive the corresponding public key, as well as testnet P2PKH address. Find the UTXO that is locked to that P2PKH output script."
   ]
  },
  {
   "cell_type": "code",
   "execution_count": 121,
   "metadata": {},
   "outputs": [
    {
     "name": "stdout",
     "output_type": "stream",
     "text": [
      "348d7027143ed17c8e7f211e1455d0ab5df0618f\n",
      "mkJpsKY91Bz57Kg9RPod6U6vUDLhwS2JqG\n"
     ]
    }
   ],
   "source": [
    "# Find your address\n",
    "email=\"craig@wright.fraud\"\n",
    "privkey=$(echo -n $email | sha256sum | awk '{print $1}')\n",
    "pubkey=$(echo $privkey | bx ec-to-public)\n",
    "pubkeyhash=$(echo $pubkey | bx sha256 | bx ripemd160)\n",
    "address=$(echo $pubkey | bx ec-to-address)\n",
    "echo $pubkeyhash\n",
    "echo $address"
   ]
  },
  {
   "cell_type": "code",
   "execution_count": 126,
   "metadata": {},
   "outputs": [
    {
     "name": "stdout",
     "output_type": "stream",
     "text": [
      "{\n",
      "    \"transfers\": [\n",
      "        {\n",
      "            \"received\": {\n",
      "                \"hash\": \"af22c1f2594025f9be9180b5e94e52f991a35e3336b9764f5db10cae76e2b0b4\",\n",
      "                \"height\": \"2104364\",\n",
      "                \"index\": \"1\"\n",
      "            },\n",
      "            \"value\": \"100000\"\n",
      "        }\n",
      "    ]\n",
      "}\n"
     ]
    }
   ],
   "source": [
    "echo $address | bx fetch-history --format json"
   ]
  },
  {
   "cell_type": "code",
   "execution_count": 139,
   "metadata": {},
   "outputs": [
    {
     "name": "stdout",
     "output_type": "stream",
     "text": [
      "af22c1f2594025f9be9180b5e94e52f991a35e3336b9764f5db10cae76e2b0b4\n",
      "1\n",
      "100000\n"
     ]
    }
   ],
   "source": [
    "# Save variables for later when we construct the transaction\n",
    "previous_txid=$(echo $address | bx fetch-history --format json | jq -r \".transfers[0].received.hash\")\n",
    "echo $previous_txid\n",
    "previous_output_index=$(echo $address | bx fetch-history --format json | jq -r \".transfers[0].received.index\")\n",
    "echo $previous_output_index\n",
    "previous_output_amount=$(echo $address | bx fetch-history --format json | jq -r \".transfers[0].value\")\n",
    "echo $previous_output_amount"
   ]
  },
  {
   "cell_type": "markdown",
   "metadata": {},
   "source": [
    "<hr style=\"border: 0.5px dashed #000;\">\n",
    "\n",
    "## 1. Setup receiving wallet.\n"
   ]
  },
  {
   "cell_type": "markdown",
   "metadata": {},
   "source": [
    "### Create new mnemonic and derive hd master keys."
   ]
  },
  {
   "cell_type": "code",
   "execution_count": 140,
   "metadata": {},
   "outputs": [
    {
     "name": "stdout",
     "output_type": "stream",
     "text": [
      "fox top picnic alone settle equal roast album knife april style course modify flame wide illness rocket wink\n",
      "tprv8ZgxMBicQKsPeDiHqrTreAtDMMmdfAR4nQBdtDBDrVuXZUxscLFykMbWX97RLakhwFN2CwK5W3vrMELgAsGusPy7dKy1hD43VFHEwkT3Lh9\n",
      "tpubD6NzVbkrYhZ4Xgk5jW8T3aYKvPHZpVbyMhnRAjDXGmhvPyDeEj5ZvrDNhJknwPBTTfiRkp1QpRvbQiF6Voqau89cNftaRtemZeQJUbxGS9Y\n"
     ]
    }
   ],
   "source": [
    "my_mnemonic=$(bx seed | bx mnemonic-new)\n",
    "hd_master_private=$(bx mnemonic-to-seed $my_mnemonic | bx hd-new)\n",
    "hd_master_public=$(bx hd-to-public $hd_master_private)\n",
    "echo $my_mnemonic\n",
    "echo $hd_master_private\n",
    "echo $hd_master_public"
   ]
  },
  {
   "cell_type": "markdown",
   "metadata": {},
   "source": [
    "### Account 1: Generate destination key pairs.\n",
    "\n",
    "You will spend the previously received utxo to receiving addresses from `account 1`, namely `/44'/1'/1'/0/0`, `/44'/1'/1'/0/1`, `/44'/1'/1'/0/2`, `/44'/1'/1'/0/3` ...\n"
   ]
  },
  {
   "cell_type": "code",
   "execution_count": 141,
   "metadata": {},
   "outputs": [],
   "source": [
    "# Account 1 receiving parent: m/44'/1'/1'/0\n",
    "hd_m_44h_1h_1h_0=$(bx hd-private --hard --index 44 $hd_master_private \\\n",
    "| bx hd-private --hard --index 1  \\\n",
    "| bx hd-private --hard --index 1  \\\n",
    "| bx hd-private --index 0)\n",
    "\n",
    "hd_m_44h_1h_1h_0_0=$(bx hd-private --index 0 $hd_m_44h_1h_1h_0)\n",
    "publickeyhash_44h_1h_1h_0_0=$(bx hd-to-public $hd_m_44h_1h_1h_0_0 | bx hd-to-ec | bx sha256 | bx ripemd160)\n",
    "\n",
    "hd_m_44h_1h_1h_0_1=$(bx hd-private --index 1 $hd_m_44h_1h_1h_0)\n",
    "publickeyhash_44h_1h_1h_0_1=$(bx hd-to-public $hd_m_44h_1h_1h_0_1 | bx hd-to-ec | bx sha256 | bx ripemd160)\n",
    "\n",
    "hd_m_44h_1h_1h_0_2=$(bx hd-private --index 2 $hd_m_44h_1h_1h_0)\n",
    "publickeyhash_44h_1h_1h_0_2=$(bx hd-to-public $hd_m_44h_1h_1h_0_2 | bx hd-to-ec | bx sha256 | bx ripemd160)"
   ]
  },
  {
   "cell_type": "markdown",
   "metadata": {},
   "source": [
    "## 2. Spending a P2PKH output."
   ]
  },
  {
   "cell_type": "markdown",
   "metadata": {},
   "source": [
    "### Create output scripts."
   ]
  },
  {
   "cell_type": "markdown",
   "metadata": {},
   "source": [
    "* **Compose P2PKH(destination public key hash) output scripts for each destination.**"
   ]
  },
  {
   "cell_type": "code",
   "execution_count": 142,
   "metadata": {},
   "outputs": [
    {
     "name": "stdout",
     "output_type": "stream",
     "text": [
      "76a914ee1b31eff27de6192871206ea60500b85d932c6f88ac\n"
     ]
    }
   ],
   "source": [
    "# bx script-encode \"DUP HASH160 [public key hash] EQUALVERIFY CHECKSIG\"\n",
    "output_script0=$(bx script-encode \"DUP HASH160 [\"$publickeyhash_44h_1h_1h_0_0\"] EQUALVERIFY CHECKSIG\")\n",
    "output_script1=$(bx script-encode \"DUP HASH160 [\"$publickeyhash_44h_1h_1h_0_1\"] EQUALVERIFY CHECKSIG\")\n",
    "output_script2=$(bx script-encode \"DUP HASH160 [\"$publickeyhash_44h_1h_1h_0_2\"] EQUALVERIFY CHECKSIG\")\n",
    "\n",
    "echo $output_script2\n"
   ]
  },
  {
   "cell_type": "code",
   "execution_count": 143,
   "metadata": {},
   "outputs": [
    {
     "name": "stdout",
     "output_type": "stream",
     "text": [
      "32333\n"
     ]
    }
   ],
   "source": [
    "# spent amount evenly across outputs, minus some sats to cover the fee\n",
    "single_output_amount=$(expr $previous_output_amount / 3 - 1000)\n",
    "echo $single_output_amount\n"
   ]
  },
  {
   "cell_type": "markdown",
   "metadata": {},
   "source": [
    "### Construct transaction template for signing.\n",
    "\n",
    "* `sequence: 0xffffffff(hex)/4294967295(dec)`"
   ]
  },
  {
   "cell_type": "code",
   "execution_count": 144,
   "metadata": {},
   "outputs": [
    {
     "name": "stdout",
     "output_type": "stream",
     "text": [
      "0100000001b4b0e276ae0cb15d4f76b936335ea391f9524ee9b58091bef9254059f2c122af0100000000ffffffff034d7e0000000000001976a914ead17789d82625acb037d22fe64e1f752241ff9888ac4d7e0000000000001976a914541968c7c7db59363c9ab4904759de593015123988ac4d7e0000000000001976a914ee1b31eff27de6192871206ea60500b85d932c6f88ac00000000\n"
     ]
    }
   ],
   "source": [
    "my_tx=$(bx tx-encode \\\n",
    "--input $previous_txid:$previous_output_index:4294967295 \\\n",
    "--output $output_script0:$single_output_amount \\\n",
    "--output $output_script1:$single_output_amount \\\n",
    "--output $output_script2:$single_output_amount)\n",
    "echo $my_tx"
   ]
  },
  {
   "cell_type": "markdown",
   "metadata": {},
   "source": [
    "### Sign transaction."
   ]
  },
  {
   "cell_type": "code",
   "execution_count": 145,
   "metadata": {},
   "outputs": [
    {
     "name": "stdout",
     "output_type": "stream",
     "text": [
      "{\n",
      "    \"transaction\": {\n",
      "        \"hash\": \"af22c1f2594025f9be9180b5e94e52f991a35e3336b9764f5db10cae76e2b0b4\",\n",
      "        \"inputs\": [\n",
      "            {\n",
      "                \"previous_output\": {\n",
      "                    \"hash\": \"970edd89e7ec8bbce6b546d0dbca53311e724e16987b7404035002ab34aba6f2\",\n",
      "                    \"index\": \"1\"\n",
      "                },\n",
      "                \"script\": \"[0014ce807e904fb0a38e159457182655c59f965fa2a9]\",\n",
      "                \"sequence\": \"4294967294\"\n",
      "            }\n",
      "        ],\n",
      "        \"lock_time\": \"2104363\",\n",
      "        \"outputs\": [\n",
      "            {\n",
      "                \"address_hash\": \"43896e4a2ac4ca2aec605f2019c6cbf1741311c0\",\n",
      "                \"script\": \"hash160 [43896e4a2ac4ca2aec605f2019c6cbf1741311c0] equal\",\n",
      "                \"value\": \"3077112\"\n",
      "            },\n",
      "            {\n",
      "                \"address_hash\": \"348d7027143ed17c8e7f211e1455d0ab5df0618f\",\n",
      "                \"script\": \"dup hash160 [348d7027143ed17c8e7f211e1455d0ab5df0618f] equalverify checksig\",\n",
      "                \"value\": \"100000\"\n",
      "            }\n",
      "        ],\n",
      "        \"version\": \"2\"\n",
      "    }\n",
      "}\n"
     ]
    }
   ],
   "source": [
    "bx fetch-tx --format json $previous_txid"
   ]
  },
  {
   "cell_type": "markdown",
   "metadata": {},
   "source": [
    "**Fetch previous output script (check output index ! )**"
   ]
  },
  {
   "cell_type": "code",
   "execution_count": 147,
   "metadata": {},
   "outputs": [
    {
     "name": "stdout",
     "output_type": "stream",
     "text": [
      "dup hash160 [348d7027143ed17c8e7f211e1455d0ab5df0618f] equalverify checksig\n",
      "348d7027143ed17c8e7f211e1455d0ab5df0618f\n"
     ]
    }
   ],
   "source": [
    "previous_output_script=$(bx fetch-tx --format json $previous_txid \\\n",
    "| jq -r \".transaction.outputs[1].script\")\n",
    "\n",
    "echo $previous_output_script\n",
    "echo $pubkeyhash"
   ]
  },
  {
   "cell_type": "markdown",
   "metadata": {},
   "source": [
    "**Sign transaction with previous output script.**"
   ]
  },
  {
   "cell_type": "code",
   "execution_count": 148,
   "metadata": {},
   "outputs": [],
   "source": [
    "# bx input-sign [private key] \"previous output script\" [transaction template]\n",
    "signature=$(bx input-sign --sign_type all --index 0 $privkey \"$previous_output_script\" $my_tx)\n"
   ]
  },
  {
   "cell_type": "code",
   "execution_count": 149,
   "metadata": {},
   "outputs": [
    {
     "name": "stdout",
     "output_type": "stream",
     "text": [
      "304402200aa158371fa0cdbae5075ce3fd7108ba057cedb3dfaa50b5f30a27654b68757202202ba43b2c0dd59dec6cb2a1bc2b1512d3e1dc7bdaab6f0c4b650f924de27925a901\n"
     ]
    }
   ],
   "source": [
    "echo $signature"
   ]
  },
  {
   "cell_type": "markdown",
   "metadata": {},
   "source": [
    "**Set the input script into the finalised transaction.**"
   ]
  },
  {
   "cell_type": "code",
   "execution_count": 150,
   "metadata": {},
   "outputs": [
    {
     "name": "stdout",
     "output_type": "stream",
     "text": [
      "0100000001b4b0e276ae0cb15d4f76b936335ea391f9524ee9b58091bef9254059f2c122af010000006a47304402200aa158371fa0cdbae5075ce3fd7108ba057cedb3dfaa50b5f30a27654b68757202202ba43b2c0dd59dec6cb2a1bc2b1512d3e1dc7bdaab6f0c4b650f924de27925a90121035f00bb1d48abc790b57c4f202e336b3447613fed7828328bea8b9ad5714c6a00ffffffff034d7e0000000000001976a914ead17789d82625acb037d22fe64e1f752241ff9888ac4d7e0000000000001976a914541968c7c7db59363c9ab4904759de593015123988ac4d7e0000000000001976a914ee1b31eff27de6192871206ea60500b85d932c6f88ac00000000\n"
     ]
    }
   ],
   "source": [
    "# bx input-set \"[signature] [public key point]\" [transaction template]\n",
    "my_tx=$(bx input-set --index 0 \"[$signature] [$pubkey]\" $my_tx)\n",
    "echo $my_tx"
   ]
  },
  {
   "cell_type": "markdown",
   "metadata": {},
   "source": [
    "## 3. Validate & Broadcast the endorsed transaction"
   ]
  },
  {
   "cell_type": "code",
   "execution_count": 151,
   "metadata": {},
   "outputs": [
    {
     "name": "stdout",
     "output_type": "stream",
     "text": [
      "The transaction is valid.\n"
     ]
    }
   ],
   "source": [
    "bx validate-tx $my_tx"
   ]
  },
  {
   "cell_type": "code",
   "execution_count": 152,
   "metadata": {},
   "outputs": [
    {
     "name": "stdout",
     "output_type": "stream",
     "text": [
      "Sent transaction.\n"
     ]
    }
   ],
   "source": [
    "bx send-tx $my_tx"
   ]
  },
  {
   "cell_type": "markdown",
   "metadata": {},
   "source": [
    "## Check history for sending and a receiving address"
   ]
  },
  {
   "cell_type": "code",
   "execution_count": 153,
   "metadata": {},
   "outputs": [
    {
     "name": "stdout",
     "output_type": "stream",
     "text": [
      "n2vZLxgxpZ8RqzgUiHE1QrkZy1kwFPAwL7\n"
     ]
    }
   ],
   "source": [
    "first_receveing_address=$(bx hd-to-public $hd_m_44h_1h_1h_0_0 | bx hd-to-ec | bx ec-to-address)\n",
    "echo $first_receveing_address"
   ]
  },
  {
   "cell_type": "code",
   "execution_count": 154,
   "metadata": {},
   "outputs": [
    {
     "name": "stdout",
     "output_type": "stream",
     "text": [
      "transfers\n",
      "{\n",
      "    transfer\n",
      "    {\n",
      "        received\n",
      "        {\n",
      "            hash af22c1f2594025f9be9180b5e94e52f991a35e3336b9764f5db10cae76e2b0b4\n",
      "            height 2104364\n",
      "            index 1\n",
      "        }\n",
      "        value 100000\n",
      "    }\n",
      "}\n",
      "transfers \"\"\n"
     ]
    }
   ],
   "source": [
    "echo $address | bx fetch-history\n",
    "echo $first_receveing_address | bx fetch-history"
   ]
  },
  {
   "cell_type": "code",
   "execution_count": null,
   "metadata": {},
   "outputs": [],
   "source": []
  }
 ],
 "metadata": {
  "kernelspec": {
   "display_name": "Bash",
   "language": "bash",
   "name": "bash"
  },
  "language_info": {
   "codemirror_mode": "shell",
   "file_extension": ".sh",
   "mimetype": "text/x-sh",
   "name": "bash"
  }
 },
 "nbformat": 4,
 "nbformat_minor": 2
}
